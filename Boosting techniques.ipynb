{
 "cells": [
  {
   "cell_type": "markdown",
   "id": "ab431963-c14f-4ba5-a5c0-c6d820036766",
   "metadata": {},
   "source": [
    "                                                  Theoretical"
   ]
  },
  {
   "cell_type": "markdown",
   "id": "717bda8c-a8da-4e4c-9713-031f62068bd7",
   "metadata": {},
   "source": [
    "1) What is Boosting in Machine Learning?"
   ]
  },
  {
   "cell_type": "markdown",
   "id": "f63c1b77-b7ed-4af5-b0bb-99b4fcbc9abf",
   "metadata": {},
   "source": [
    "Answer:- How Boosting Works\n",
    "In boosting, models are trained in a sequence, with each new model focusing on the errors made by the previous ones. Incorrectly predicted instances are given higher weights, prompting the next model to pay more attention to them. This iterative process continues until a specified number of models are trained or the model's performance reaches a satisfactory level.\n",
    "\n",
    " Types of Boosting Algorithms\n",
    "AdaBoost (Adaptive Boosting)\n",
    "AdaBoost adjusts the weights of misclassified instances after each iteration, focusing more on difficult cases. It's effective for binary classification tasks.\n",
    "\n",
    "Gradient Boosting\n",
    "This algorithm builds models sequentially, each correcting the residual errors of the previous one. It optimizes a loss function, making it suitable for both classification and regression problems.\n",
    "\n",
    "XGBoost (Extreme Gradient Boosting)\n",
    "An optimized version of gradient boosting, XGBoost incorporates regularization to prevent overfitting and enhances computational efficiency, handling large datasets effectively."
   ]
  },
  {
   "cell_type": "markdown",
   "id": "f64c307f-fef3-49fd-890c-ff1b082b8670",
   "metadata": {},
   "source": [
    "2)How does Boosting differ from Bagging?"
   ]
  },
  {
   "cell_type": "markdown",
   "id": "6bc2eb40-8e9c-489c-ac77-5b01daddf16e",
   "metadata": {},
   "source": [
    "Answer:-Training Approach\n",
    "Bagging: Models are trained independently and in parallel on different random subsets of the data. Each model is trained without considering the performance of others.\n",
    "Boosting: Models are trained sequentially, where each new model attempts to correct the errors of its predecessor by focusing more on the misclassified instances.\n",
    "Objective\n",
    "Bagging: Aims to reduce vari\n",
    "Weighting of Models\n",
    "Bagging: Each model contributes equally to the final prediction, typically through averaging (regression) or majority voting (classification).\n",
    "ance by averaging the predictions of multiple models, thereby stabilizing the learning process.\n",
    "Boosting: Aims to reduce bias and improve accuracy by sequentially correcting errors made by previous models.\n",
    "Boosting: Models are assigned weights based on their performance; better-performing models have more influence on the final prediction.\n",
    "\n",
    " Error Handling\n",
    "Bagging: Does not focus on correcting errors from previous models; instead, it aims to reduce overfitting by using multiple models\n",
    "Boosting: Each subsequent model focuses on correcting the errors (misclassifications) of the previous models, thereby improving accuracy.\n",
    "\n"
   ]
  },
  {
   "cell_type": "markdown",
   "id": "15319c0d-5c47-4f4b-b99d-8aa3ce0cd1b8",
   "metadata": {},
   "source": [
    "3)What is the key idea behind AdaBoost?"
   ]
  },
  {
   "cell_type": "markdown",
   "id": "479f5395-4cb8-414c-84b2-204b0e12eb7a",
   "metadata": {},
   "source": [
    "Answer:-How AdaBoost Works\n",
    "i)Initialize Weights: Assign equal weights to all training samples.\n",
    "\n",
    "ii)Train Weak Learner: Train a weak classifier (e.g., decision stump) using the weighted dataset.\n",
    "\n",
    "iii)Evaluate Error: Calculate the weighted error rate of the classifier.\n",
    "\n",
    "iv)Update Weights: Increase the weights of misclassified samples to focus more on them in the next iteration.\n",
    "\n",
    "v)Combine Classifiers: Combine the weak learners into a final strong classifier, with each learner's contribution weighted by its accuracy.\n",
    "\n",
    "This process is repeated for a specified number of iterations or until no further improvement is observed.\n",
    "\n",
    "Why AdaBoost is Effective\n",
    "Focus on Hard Cases: By emphasizing misclassified instances, AdaBoost improves the model's ability to handle difficult cases.\n",
    "\n",
    "Simple Learners: Even weak learners can contribute to a strong model when combined appropriately.\n",
    "\n",
    "Adaptability: AdaBoost can be applied to various base learners and is effective for both binary and multi-class classification tasks."
   ]
  },
  {
   "cell_type": "markdown",
   "id": "ea263db0-e6e6-4740-a267-e58a34b6b6da",
   "metadata": {},
   "source": [
    "4)Explain the working of AdaBoost with an example"
   ]
  },
  {
   "cell_type": "markdown",
   "id": "1be7de3e-7733-4044-8d00-57862b5229f8",
   "metadata": {},
   "source": [
    "Answer:-Step-by-Step Example: AdaBoost on a Simple Dataset\n",
    "Consider a binary classification problem with the following dataset:\n",
    "\n",
    "| Sample | Feature (X) | True Label (Y) |\n",
    "| ------ | ----------- | -------------- |\n",
    "| 1      | 1           | +1             |\n",
    "| 2      | 2           | +1             |\n",
    "| 3      | 3           | -1             |\n",
    "| 4      | 4           | -1             |\n",
    "\n",
    "Step 1: Initialize Weights\n",
    "Assign equal weights to all samples.\n",
    "\n",
    "Weight for each sample: 1/4 = 0.25\n",
    "\n",
    "Step 2: Train First Weak Learner\n",
    "Train a weak learner (e.g., a decision stump) on the weighted dataset. Assume the first weak learner misclassifies Sample 3.\n",
    "\n",
    "Weighted error (ε₁) = 0.25 (since only Sample 3 is misclassified)\n",
    "\n",
    "Step 3: Calculate Learner Weight\n",
    "Compute the weight (α₁) of the first weak learner:\n",
    "α₁ = 0.5 * ln((1 - ε₁) / ε₁) = 0.5 * ln((1 - 0.25) / 0.25) = 0.5 * ln(3) ≈ 0.5493\n",
    "\n",
    "Step 4: Update Sample Weights\n",
    "Update the weights of the samples:\n",
    "For correctly classified samples, decrease their weights:\n",
    "\n",
    "New weight for Sample 1 and Sample 2: 0.25 * exp(-α₁) ≈ 0.25 * exp(-0.5493) ≈ 0.1839\n",
    "\n",
    "For misclassified samples, increase their weights:\n",
    "New weight for Sample 3: 0.25 * exp(α₁) ≈ 0.25 * exp(0.5493) ≈ 0.3161\n",
    "\n",
    "Normalize the weights so they sum to 1:\n",
    "Total weight = 0.1839 + 0.1839 + 0.3161 + 0.3161 = 1\n",
    "\n",
    "Normalized weights\n",
    "Sample 1: 0.1839 / 1 = 0.1839\n",
    "\n",
    "Sample 2: 0.1839 / 1 = 0.1839\n",
    "\n",
    "Sample 3: 0.3161 / 1 = 0.3161\n",
    "\n",
    "Sample 4: 0.3161 / 1 = 0.3161 "
   ]
  },
  {
   "cell_type": "markdown",
   "id": "0f7ca29b-0e8a-4343-a988-75ee427f9602",
   "metadata": {},
   "source": [
    "5) What is Gradient Boosting, and how is it different from AdaBoost"
   ]
  },
  {
   "cell_type": "markdown",
   "id": "2a85c0e4-c2c0-4d6a-aa33-f23c83f3d02f",
   "metadata": {},
   "source": [
    "Answer:- Feature\tGradient Boosting\tAdaBoost\n",
    "Loss Function\tCan use any differentiable loss function (e.g., MSE, Log Loss)\tUses exponential loss function\n",
    "Model Update\tUpdates model by fitting to negative gradient of loss function\tUpdates model by adjusting sample weights based on misclassification\n",
    "Base Learners\tTypically uses deeper trees with more splits\tUses shallow trees (decision stumps)\n",
    "Sensitivity to Outliers\tMore robust due to gradient-based updates\tLess robust; sensitive to outliers due to high sample weights\n",
    "Flexibility\tHighly flexible; can be used for both regression and classification tasks\tPrimarily designed for binary classification tasks\n",
    "Parallelization\tLimited parallelism due to sequential nature\tMore parallelizable due to independent model training\n",
    "Regularization\tIncludes techniques like shrinkage (learning rate) and tree constraints to prevent overfitting\tLess emphasis on regularization; more prone to overfittingAnswer:- Key Differences Between Gradient Boosting and AdaBoost\n",
    "\n",
    " When to Use Which?\n",
    "Use Gradient Boosting when:\n",
    "\n",
    "You need flexibility with different loss functions.\n",
    "\n",
    "The dataset contains complex patterns requiring deeper models.\n",
    "\n",
    "You can afford longer training times and computational resources.\n",
    "\n",
    "Use AdaBoost when:\n",
    "\n",
    "You have a simpler dataset or need a quick, interpretable model.\n",
    "\n",
    "The focus is on binary classification tasks.\n",
    "\n",
    "You prefer a model that can be more easily parallelized.\n",
    "\n",
    "Both algorithms are powerful ensemble methods, but the choice between them depends on the specific characteristics of your data and the problem at hand."
   ]
  },
  {
   "cell_type": "markdown",
   "id": "ab7cb60d-8b15-4316-96f2-cd4ece2f87ed",
   "metadata": {},
   "source": [
    "6) What is the loss function in Gradient Boosting"
   ]
  },
  {
   "cell_type": "markdown",
   "id": "570c3aec-0385-41db-a7bd-edfad0b56687",
   "metadata": {},
   "source": [
    "Answer:-Common Loss Functions in Gradient Boosting\n",
    "Gradient Boosting is versatile and can optimize various loss functions, depending on the problem at hand:\n",
    "\n",
    "i)Mean Squared Error (MSE): Used for regression tasks, it penalizes large errors more heavily.\n",
    "ii)Mean Absolute Error (MAE): Also for regression, it treats all errors equally, making it less sensitive to outliers.\n",
    "iii)Log Loss (Binary Cross-Entropy): For binary classification, it measures the performance of a classification model whose output is a probability value between 0 and 1.\n",
    "iv)Huber Loss: A combination of MSE and MAE, it's less sensitive to outliers in data than squared error loss.\n",
    "\n",
    "How Gradient Boosting Utilizes the Loss Function\n",
    "At each iteration, Gradient Boosting fits a new weak learner to the negative gradient of the loss function with respect to the current model's predictions. This approach is akin to performing gradient descent in function space, where the model updates are directed towards minimizing the loss function. For example, with MSE, the gradient is simply the residuals (the differences between actual and predicted values), guiding the model to correct its errors effectively."
   ]
  },
  {
   "cell_type": "markdown",
   "id": "a1579257-1a0b-429d-b4de-886f837aa63b",
   "metadata": {},
   "source": [
    "7)How does XGBoost improve over traditional Gradient Boosting"
   ]
  },
  {
   "cell_type": "markdown",
   "id": "9ef9f3ae-17e8-4025-bcc4-596d316fa34d",
   "metadata": {},
   "source": [
    "Answer:- Key Enhancements in XGBoost\n",
    "1. Regularization Techniques\n",
    "XGBoost incorporates both L1 (Lasso) and L2 (Ridge) regularization into its objective function. This dual regularization helps prevent overfitting by penalizing overly complex models, a feature absent in traditional Gradient Boosting implementations.\n",
    "2. Parallel and Distributed Computing\n",
    "While Gradient Boosting builds trees sequentially, XGBoost utilizes parallel processing during tree construction. It employs a unique algorithm that allows for parallel evaluation of splits, significantly reducing training time. Additionally, XGBoost supports distributed computing frameworks like Hadoop and Spark, enabling it to handle large-scale datasets efficiently.\n",
    "3. Handling Sparse Data\n",
    "XGBoost is designed to handle sparse data effectively. It uses a sparsity-aware algorithm that automatically learns the best direction to take when encountering missing values during tree construction, eliminating the need for explicit data imputation.\n",
    "4. Tree Pruning\n",
    "XGBoost employs a depth-first approach to tree pruning, where it grows the tree fully and then prunes it backward. This method allows for more accurate and efficient pruning compared to traditional pre- or post-pruning techniques, leading to simpler and more generalizable models.\n",
    "5. Advanced Optimization\n",
    "XGBoost leverages both first and second-order derivatives of the loss function during optimization. This approach accelerates convergence and improves the accuracy of the model, especially in complex datasets.\n",
    "6. Built-in Cross-Validation\n",
    "Unlike traditional Gradient Boosting, XGBoost integrates cross-validation directly into its training process. This feature facilitates better model evaluation and hyperparameter tuning without the need for external tools."
   ]
  },
  {
   "cell_type": "markdown",
   "id": "1a4e80e3-c547-41a8-aeb8-7040557f5212",
   "metadata": {},
   "source": [
    "8)What is the difference between XGBoost and CatBoost"
   ]
  },
  {
   "cell_type": "markdown",
   "id": "d5d174db-5f6d-4539-86b5-e3683b230584",
   "metadata": {},
   "source": [
    " Answer:-When to Choose XGBoost\n",
    "Numerical Data: If your dataset primarily consists of numerical features, XGBoost can be highly effective.\n",
    "\n",
    "Custom Model Tuning: For advanced users seeking fine-grained control over model parameters, XGBoost offers extensive hyperparameter tuning options.\n",
    "\n",
    "Established Ecosystem: XGBoost's mature ecosystem provides robust support and integration with various tools and libraries.\n",
    "\n",
    "When to Choose CatBoost\n",
    "Categorical Data: CatBoost excels in handling datasets with many categorical features, reducing the need for manual preprocessing.\n",
    "Quick Prototyping: If you require a model that performs well with minimal tuning, CatBoost's default parameters often yield strong results.\n",
    "GPU-Accelerated Training: For large-scale datasets, CatBoost's efficient GPU support can significantly speed up training times.\n"
   ]
  },
  {
   "cell_type": "markdown",
   "id": "d8707ec6-99b3-4dad-b7c8-375de0b86f95",
   "metadata": {},
   "source": [
    "9)What are some real-world applications of Boosting techniques"
   ]
  },
  {
   "cell_type": "markdown",
   "id": "57a2c954-affa-4f58-9f68-555df3971865",
   "metadata": {},
   "source": [
    "Answer:- Healthcare and Medical Diagnostics\n",
    "Disease Prediction: Boosting algorithms are employed to predict the likelihood of diseases like cardiovascular conditions, diabetes, and cancer by analyzing patient data, including medical history and test results. \n",
    "\n",
    "Medical Imaging: In radiology, boosting enhances the detection of anomalies in medical images, aiding in early diagnosis and treatment planning. \n",
    "Mental Health Monitoring: Studies have shown that combining electroencephalography (EEG) data with machine learning algorithms can predict a patient's response to antidepressant treatments within the first week of therapy, potentially reducing the trial-and-error period in choosing antidepressants.\n",
    "\n",
    "Finance and Fraud Detection\n",
    "Credit Scoring: Financial institutions use boosting algorithms to assess borrowers' creditworthiness by analyzing various factors such as income, spending habits, and payment history. \n",
    "\n",
    "Fraud Detection: Boosting techniques are applied to identify unusual patterns in transaction data, flagging potential fraudulent activities with high precision.\n",
    "\n",
    "Stock Price Prediction: Boosting models process historical price movements, trading volumes, and market indicators to provide insights into stock price trends. \n",
    "\n",
    " E-Commerce and Recommendation Systems\n",
    "Personalized Recommendations: E-commerce platforms utilize boosting algorithms to analyze user behavior, purchase history, and product interactions, providing personalized product recommendations.\n",
    "\n",
    "Dynamic Pricing: Boosting models process factors like demand, inventory, and competitor pricing to set optimal product prices in real time, ensuring competitiveness and maximizing revenue."
   ]
  },
  {
   "cell_type": "markdown",
   "id": "32f1681e-4e49-488b-a519-bd113a5412e0",
   "metadata": {},
   "source": [
    "10)How does regularization help in XGBoost"
   ]
  },
  {
   "cell_type": "markdown",
   "id": "e4ac422c-5295-4d3e-9a4c-6c008a91fcf3",
   "metadata": {},
   "source": [
    "Answer:- L1 Regularization (Lasso)\n",
    "Purpose: Encourages sparsity in the model by driving less important feature weights to zero.\n",
    "Effect: Promotes feature selection, making the model simpler and more interpretable.\n",
    "Parameter: Controlled by the alpha hyperparameter. Higher values of alpha increase the penalty on the absolute values of leaf weights, leading to more zero weights.\n",
    "Use Case: Particularly useful when dealing with high-dimensional datasets where feature selection is essential.\n",
    "L2 Regularization (Ridge)\n",
    "Purpose: Prevents overfitting by penalizing large weights, leading to smoother and more generalized models\n",
    "Effect: Reduces the impact of less important features without eliminating them entirely.\n",
    "AST Consulting\n",
    "\n",
    "Parameter: Controlled by the lambda hyperparameter. Higher values of lambda increase the penalty on the squared values of leaf weights, leading to smaller weights.\n",
    "Use Case: Effective in scenarios where all features are believed to contribute to the model and should be retained, but with reduced influence.\n",
    "\n",
    "Additional Regularization Techniques in XGBoost\n",
    "Early Stopping: Monitors the model's performance on a validation set during training. If performance doesn't improve for a specified number of rounds (early_stopping_rounds), training halts, preventing overfitting. \n",
    "Minimum Child Weight (min_child_weight): Sets the minimum sum of instance weights (hessian) in a child. Higher values prevent the model from learning overly specific patterns, thus reducing overfitting."
   ]
  },
  {
   "cell_type": "markdown",
   "id": "420418ba-380e-4abe-93a9-8bd0160bd4f8",
   "metadata": {},
   "source": [
    "11)What are some hyperparameters to tune in Gradient Boosting models"
   ]
  },
  {
   "cell_type": "markdown",
   "id": "4aa15af9-8993-4446-9380-0bce79942c4d",
   "metadata": {},
   "source": [
    "Answer:-  Best Practices for Hyperparameter Tuning\n",
    "Start with Default Values: Begin with default hyperparameters to establish a baseline model performance.\n",
    "Use Cross-Validation: Employ techniques like k-fold cross-validation to evaluate model performance and avoid overfitting.\n",
    "\n",
    "Iterative Tuning: Adjust hyperparameters iteratively. For instance, after setting the learning rate, tune the number of trees and tree depth.\n",
    "Regularization: Incorporate L1 (Lasso) and L2 (Ridge) regularization to penalize large coefficients and prevent overfitting.\n",
    "\n",
    "Early Stopping: Monitor validation performance during training and stop when performance plateaus to prevent overfitting.\n",
    "\n",
    "Use Grid or Random Search: Systematically explore a range of hyperparameter values using Grid Search or Random Search methods"
   ]
  },
  {
   "cell_type": "markdown",
   "id": "6bd31940-8c99-4646-8e37-938b24338b24",
   "metadata": {},
   "source": [
    "12)What is the concept of Feature Importance in Boosting"
   ]
  },
  {
   "cell_type": "markdown",
   "id": "97ee42dd-88c6-4d1c-aa98-9e1d4e51f995",
   "metadata": {},
   "source": [
    "Answer:-How Feature Importance is Calculated in Boosting\n",
    "In boosting algorithms like Gradient Boosting, XGBoost, and LightGBM, feature importance is typically determined by evaluating how each feature contributes to reducing the loss function across all trees in the ensemble. This is often done using metrics such as \"Gain,\" \"Coverage,\" and \"Frequency\":\n",
    "Gain: Measures the improvement in the loss function brought by a feature when it is used in a split. A higher gain indicates a more significant contribution to the model's predictive power.\n",
    "\n",
    "Coverage: Quantifies the relative number of observations affected by a feature. It reflects how often a feature is used to split the data across all trees.\n",
    "Frequency: Counts how many times a feature is used in the model's splits. A higher frequency suggests the feature's frequent involvement in decision-making.\n",
    "\n",
    "These metrics are averaged over all trees in the model to provide a comprehensive view of each feature's importance.\n",
    "Visualizing Feature Importance\n",
    "Visual representation of feature importance helps in identifying which features most influence the model's predictions. Common visualization techniques include:\n",
    "\n",
    "Bar Charts: Display features along the x-axis and their corresponding importance scores on the y-axis.\n",
    "\n",
    "SHAP (SHapley Additive exPlanations) Plots: Provide a detailed view of how each feature value impacts individual predictions, offering deeper insights into feature effects.\n",
    "\n",
    "These visualizations assist in understanding the model's behavior and in making informed decisions about feature selection and engineering."
   ]
  },
  {
   "cell_type": "markdown",
   "id": "b4f68b0e-5200-4cb0-8338-948b1f59ad10",
   "metadata": {},
   "source": [
    "13)Why is CatBoost efficient for categorical data?"
   ]
  },
  {
   "cell_type": "markdown",
   "id": "77268d54-9b27-4e9f-a514-44f476e2e55d",
   "metadata": {},
   "source": [
    "Answer:- Why CatBoost Excels with Categorical Data\n",
    "Native Support for Categorical Features\n",
    "CatBoost can process categorical features directly without the need for one-hot encoding or label encoding. This native handling reduces the risk of overfitting and computational overhead associated with traditional encoding methods.\n",
    "\n",
    "Ordered Target Encoding\n",
    "To prevent target leakage—a common issue in traditional target encoding—CatBoost employs ordered target encoding. This technique calculates target statistics based only on previous data points, ensuring that the model does not inadvertently use future information during training.\n",
    "\n",
    "Ordered Boosting\n",
    "CatBoost introduces ordered boosting, where each iteration of the boosting process is based on a random permutation of the dataset. This approach reduces overfitting and enhances the model's generalization capabilities, especially in small datasets.\n",
    "\n",
    "Efficient Handling of High-Cardinality Features\n",
    "CatBoost effectively manages categorical features with a large number of unique categories (high cardinality) by using target statistics that balance the impact of each category. This method mitigates the potential for overfitting and maintains model performance.\n",
    "\n",
    "Symmetric Decision Trees\n",
    "Unlike traditional gradient boosting algorithms that build asymmetric trees, CatBoost constructs symmetric trees, where each split at a given depth applies the same decision rule across all branches. This structure improves training speed and model robustness.\n",
    "\n"
   ]
  },
  {
   "cell_type": "markdown",
   "id": "6e538eb9-07b8-4bed-bb5d-0f8490dbba86",
   "metadata": {},
   "source": [
    "                                                           Practical"
   ]
  },
  {
   "cell_type": "markdown",
   "id": "91b337dc-023d-497c-9cf5-11d0a55c54b6",
   "metadata": {},
   "source": [
    "14)Train an AdaBoost Classifier on a sample dataset and print model accuracy"
   ]
  },
  {
   "cell_type": "code",
   "execution_count": null,
   "id": "25934eaf-002d-4ea0-a823-bf3a9e08df0c",
   "metadata": {},
   "outputs": [],
   "source": [
    "Answer:-"
   ]
  },
  {
   "cell_type": "code",
   "execution_count": 5,
   "id": "d0fb697c-df60-4d61-8a31-f01822e6a54b",
   "metadata": {},
   "outputs": [
    {
     "ename": "TypeError",
     "evalue": "got an unexpected keyword argument 'return_X_Y'",
     "output_type": "error",
     "traceback": [
      "\u001b[1;31m---------------------------------------------------------------------------\u001b[0m",
      "\u001b[1;31mTypeError\u001b[0m                                 Traceback (most recent call last)",
      "Cell \u001b[1;32mIn[5], line 7\u001b[0m\n\u001b[0;32m      4\u001b[0m \u001b[38;5;28;01mfrom\u001b[39;00m \u001b[38;5;21;01msklearn\u001b[39;00m\u001b[38;5;21;01m.\u001b[39;00m\u001b[38;5;21;01mtree\u001b[39;00m \u001b[38;5;28;01mimport\u001b[39;00m DecisionTreeClassifier\n\u001b[0;32m      5\u001b[0m \u001b[38;5;28;01mfrom\u001b[39;00m \u001b[38;5;21;01msklearn\u001b[39;00m\u001b[38;5;21;01m.\u001b[39;00m\u001b[38;5;21;01mmetrics\u001b[39;00m \u001b[38;5;28;01mimport\u001b[39;00m accuracy_score\n\u001b[1;32m----> 7\u001b[0m X,Y\u001b[38;5;241m=\u001b[39mdatasets\u001b[38;5;241m.\u001b[39mload_iris(return_X_Y\u001b[38;5;241m=\u001b[39m\u001b[38;5;28;01mTrue\u001b[39;00m)\n\u001b[0;32m      9\u001b[0m X_train, X_test, Y_train, Y_test \u001b[38;5;241m=\u001b[39m train_test_split(X, Y, test_size\u001b[38;5;241m=\u001b[39m\u001b[38;5;241m0.3\u001b[39m, random_state\u001b[38;5;241m=\u001b[39m\u001b[38;5;241m42\u001b[39m)\n\u001b[0;32m     11\u001b[0m model \u001b[38;5;241m=\u001b[39m AdaBoostClassifier(\n\u001b[0;32m     12\u001b[0m     base_estimator\u001b[38;5;241m=\u001b[39mDecisionTreeClassifier(max_depth\u001b[38;5;241m=\u001b[39m\u001b[38;5;241m1\u001b[39m),n_estimators\u001b[38;5;241m=\u001b[39m\u001b[38;5;241m50\u001b[39m,learning_rate\u001b[38;5;241m=\u001b[39m\u001b[38;5;241m1.0\u001b[39m,random_state\u001b[38;5;241m=\u001b[39m\u001b[38;5;241m42\u001b[39m)\n",
      "File \u001b[1;32m~\\anaconda3\\Lib\\site-packages\\sklearn\\utils\\_param_validation.py:191\u001b[0m, in \u001b[0;36mvalidate_params.<locals>.decorator.<locals>.wrapper\u001b[1;34m(*args, **kwargs)\u001b[0m\n\u001b[0;32m    188\u001b[0m func_sig \u001b[38;5;241m=\u001b[39m signature(func)\n\u001b[0;32m    190\u001b[0m \u001b[38;5;66;03m# Map *args/**kwargs to the function signature\u001b[39;00m\n\u001b[1;32m--> 191\u001b[0m params \u001b[38;5;241m=\u001b[39m func_sig\u001b[38;5;241m.\u001b[39mbind(\u001b[38;5;241m*\u001b[39margs, \u001b[38;5;241m*\u001b[39m\u001b[38;5;241m*\u001b[39mkwargs)\n\u001b[0;32m    192\u001b[0m params\u001b[38;5;241m.\u001b[39mapply_defaults()\n\u001b[0;32m    194\u001b[0m \u001b[38;5;66;03m# ignore self/cls and positional/keyword markers\u001b[39;00m\n",
      "File \u001b[1;32m~\\anaconda3\\Lib\\inspect.py:3273\u001b[0m, in \u001b[0;36mSignature.bind\u001b[1;34m(self, *args, **kwargs)\u001b[0m\n\u001b[0;32m   3268\u001b[0m \u001b[38;5;28;01mdef\u001b[39;00m \u001b[38;5;21mbind\u001b[39m(\u001b[38;5;28mself\u001b[39m, \u001b[38;5;241m/\u001b[39m, \u001b[38;5;241m*\u001b[39margs, \u001b[38;5;241m*\u001b[39m\u001b[38;5;241m*\u001b[39mkwargs):\n\u001b[0;32m   3269\u001b[0m \u001b[38;5;250m    \u001b[39m\u001b[38;5;124;03m\"\"\"Get a BoundArguments object, that maps the passed `args`\u001b[39;00m\n\u001b[0;32m   3270\u001b[0m \u001b[38;5;124;03m    and `kwargs` to the function's signature.  Raises `TypeError`\u001b[39;00m\n\u001b[0;32m   3271\u001b[0m \u001b[38;5;124;03m    if the passed arguments can not be bound.\u001b[39;00m\n\u001b[0;32m   3272\u001b[0m \u001b[38;5;124;03m    \"\"\"\u001b[39;00m\n\u001b[1;32m-> 3273\u001b[0m     \u001b[38;5;28;01mreturn\u001b[39;00m \u001b[38;5;28mself\u001b[39m\u001b[38;5;241m.\u001b[39m_bind(args, kwargs)\n",
      "File \u001b[1;32m~\\anaconda3\\Lib\\inspect.py:3262\u001b[0m, in \u001b[0;36mSignature._bind\u001b[1;34m(self, args, kwargs, partial)\u001b[0m\n\u001b[0;32m   3252\u001b[0m         \u001b[38;5;28;01mraise\u001b[39;00m \u001b[38;5;167;01mTypeError\u001b[39;00m(\n\u001b[0;32m   3253\u001b[0m             \u001b[38;5;124m'\u001b[39m\u001b[38;5;124mgot some positional-only arguments passed as \u001b[39m\u001b[38;5;124m'\u001b[39m\n\u001b[0;32m   3254\u001b[0m             \u001b[38;5;124m'\u001b[39m\u001b[38;5;124mkeyword arguments: \u001b[39m\u001b[38;5;132;01m{arg!r}\u001b[39;00m\u001b[38;5;124m'\u001b[39m\u001b[38;5;241m.\u001b[39mformat(\n\u001b[1;32m   (...)\u001b[0m\n\u001b[0;32m   3259\u001b[0m             ),\n\u001b[0;32m   3260\u001b[0m         )\n\u001b[0;32m   3261\u001b[0m     \u001b[38;5;28;01melse\u001b[39;00m:\n\u001b[1;32m-> 3262\u001b[0m         \u001b[38;5;28;01mraise\u001b[39;00m \u001b[38;5;167;01mTypeError\u001b[39;00m(\n\u001b[0;32m   3263\u001b[0m             \u001b[38;5;124m'\u001b[39m\u001b[38;5;124mgot an unexpected keyword argument \u001b[39m\u001b[38;5;132;01m{arg!r}\u001b[39;00m\u001b[38;5;124m'\u001b[39m\u001b[38;5;241m.\u001b[39mformat(\n\u001b[0;32m   3264\u001b[0m                 arg\u001b[38;5;241m=\u001b[39m\u001b[38;5;28mnext\u001b[39m(\u001b[38;5;28miter\u001b[39m(kwargs))))\n\u001b[0;32m   3266\u001b[0m \u001b[38;5;28;01mreturn\u001b[39;00m \u001b[38;5;28mself\u001b[39m\u001b[38;5;241m.\u001b[39m_bound_arguments_cls(\u001b[38;5;28mself\u001b[39m, arguments)\n",
      "\u001b[1;31mTypeError\u001b[0m: got an unexpected keyword argument 'return_X_Y'"
     ]
    }
   ],
   "source": [
    "from sklearn import datasets\n",
    "from sklearn.model_selection import train_test_split\n",
    "from sklearn.ensemble import AdaBoostClassifier\n",
    "from sklearn.tree import DecisionTreeClassifier\n",
    "from sklearn.metrics import accuracy_score\n",
    "\n",
    "X,Y=datasets.load_iris(return_X_Y=True)\n",
    "\n",
    "X_train, X_test, Y_train, Y_test = train_test_split(X, Y, test_size=0.3, random_state=42)\n",
    "\n",
    "model = AdaBoostClassifier(\n",
    "    base_estimator=DecisionTreeClassifier(max_depth=1),n_estimators=50,learning_rate=1.0,random_state=42)\n",
    "\n",
    "\n",
    "model.fit(X_train, Y_train)\n",
    "\n",
    "\n",
    "Y_pred = model.predict(X_test)\n",
    "\n",
    "accuracy = accuracy_score(Y_test, Y_pred)\n",
    "print(f\"Model Accuracy: {accuracy:.4f}\")\n"
   ]
  },
  {
   "cell_type": "markdown",
   "id": "eee0ba58-854f-4a33-97be-1c4288e608e3",
   "metadata": {},
   "source": [
    "15)Train an AdaBoost Regressor and evaluate performance using Mean Absolute Error (MAE)"
   ]
  },
  {
   "cell_type": "code",
   "execution_count": null,
   "id": "bc54851b-e19e-4605-a814-023676793d47",
   "metadata": {},
   "outputs": [],
   "source": [
    "ANSWER:-"
   ]
  },
  {
   "cell_type": "code",
   "execution_count": 7,
   "id": "eb1f2e59-6099-4888-8fb8-923ed16c7a23",
   "metadata": {},
   "outputs": [
    {
     "ename": "TypeError",
     "evalue": "AdaBoostRegressor.__init__() got an unexpected keyword argument 'base_estimator'",
     "output_type": "error",
     "traceback": [
      "\u001b[1;31m---------------------------------------------------------------------------\u001b[0m",
      "\u001b[1;31mTypeError\u001b[0m                                 Traceback (most recent call last)",
      "Cell \u001b[1;32mIn[7], line 14\u001b[0m\n\u001b[0;32m     11\u001b[0m X_train, X_test, y_train, y_test \u001b[38;5;241m=\u001b[39m train_test_split(X, y, test_size\u001b[38;5;241m=\u001b[39m\u001b[38;5;241m0.3\u001b[39m, random_state\u001b[38;5;241m=\u001b[39m\u001b[38;5;241m42\u001b[39m)\n\u001b[0;32m     13\u001b[0m \u001b[38;5;66;03m# Initialize the AdaBoost Regressor with a decision tree base estimator\u001b[39;00m\n\u001b[1;32m---> 14\u001b[0m model \u001b[38;5;241m=\u001b[39m AdaBoostRegressor(\n\u001b[0;32m     15\u001b[0m     base_estimator\u001b[38;5;241m=\u001b[39mDecisionTreeRegressor(max_depth\u001b[38;5;241m=\u001b[39m\u001b[38;5;241m4\u001b[39m),  \u001b[38;5;66;03m# Decision tree with max depth of 4\u001b[39;00m\n\u001b[0;32m     16\u001b[0m     n_estimators\u001b[38;5;241m=\u001b[39m\u001b[38;5;241m100\u001b[39m,  \u001b[38;5;66;03m# Number of boosting rounds\u001b[39;00m\n\u001b[0;32m     17\u001b[0m     learning_rate\u001b[38;5;241m=\u001b[39m\u001b[38;5;241m0.5\u001b[39m,  \u001b[38;5;66;03m# Contribution of each estimator\u001b[39;00m\n\u001b[0;32m     18\u001b[0m     random_state\u001b[38;5;241m=\u001b[39m\u001b[38;5;241m42\u001b[39m\n\u001b[0;32m     19\u001b[0m )\n\u001b[0;32m     21\u001b[0m \u001b[38;5;66;03m# Train the model\u001b[39;00m\n\u001b[0;32m     22\u001b[0m model\u001b[38;5;241m.\u001b[39mfit(X_train, y_train)\n",
      "\u001b[1;31mTypeError\u001b[0m: AdaBoostRegressor.__init__() got an unexpected keyword argument 'base_estimator'"
     ]
    }
   ],
   "source": [
    "from sklearn import datasets\n",
    "from sklearn.model_selection import train_test_split\n",
    "from sklearn.ensemble import AdaBoostRegressor\n",
    "from sklearn.tree import DecisionTreeRegressor\n",
    "from sklearn.metrics import mean_absolute_error\n",
    "\n",
    "\n",
    "X, y = datasets.load_diabetes(return_X_y=True)\n",
    "\n",
    "\n",
    "X_train, X_test, y_train, y_test = train_test_split(X, y, test_size=0.3, random_state=42)\n",
    "\n",
    "model = AdaBoostRegressor(\n",
    "    base_estimator=DecisionTreeRegressor(max_depth=4), \n",
    "    n_estimators=100,  \n",
    "    learning_rate=0.5,  \n",
    "    random_state=42\n",
    ")\n",
    "\n",
    "# Train the model\n",
    "model.fit(X_train, y_train)\n",
    "\n",
    "# Make predictions\n",
    "y_pred = model.predict(X_test)\n",
    "\n",
    "# Calculate Mean Absolute Error\n",
    "mae = mean_absolute_error(y_test, y_pred)\n",
    "print(f\"Mean Absolute Error: {mae:.4f}\")\n"
   ]
  },
  {
   "cell_type": "markdown",
   "id": "cf8c1133-b394-4f6a-87c7-50695c6d7092",
   "metadata": {},
   "source": [
    "16)Train a Gradient Boosting Classifier on the Breast Cancer dataset and print feature importance"
   ]
  },
  {
   "cell_type": "code",
   "execution_count": null,
   "id": "3b1d869b-fc63-4ed3-a433-42a4b30cb8fc",
   "metadata": {},
   "outputs": [],
   "source": [
    "Answer:-"
   ]
  },
  {
   "cell_type": "code",
   "execution_count": 11,
   "id": "fb90d1cd-ad92-407d-bb54-bfa635f04e59",
   "metadata": {},
   "outputs": [
    {
     "name": "stdout",
     "output_type": "stream",
     "text": [
      "Feature ranking:\n",
      "1. Feature mean concave points (0.4349)\n",
      "2. Feature worst concave points (0.2738)\n",
      "3. Feature worst perimeter (0.0510)\n",
      "4. Feature worst area (0.0480)\n",
      "5. Feature worst texture (0.0472)\n",
      "6. Feature worst radius (0.0454)\n",
      "7. Feature worst concavity (0.0230)\n",
      "8. Feature mean texture (0.0184)\n",
      "9. Feature concavity error (0.0156)\n",
      "10. Feature radius error (0.0100)\n",
      "11. Feature area error (0.0055)\n",
      "12. Feature worst smoothness (0.0045)\n",
      "13. Feature compactness error (0.0044)\n",
      "14. Feature concave points error (0.0034)\n",
      "15. Feature perimeter error (0.0020)\n",
      "16. Feature symmetry error (0.0018)\n",
      "17. Feature mean compactness (0.0017)\n",
      "18. Feature texture error (0.0013)\n",
      "19. Feature worst symmetry (0.0013)\n",
      "20. Feature mean concavity (0.0012)\n",
      "21. Feature worst fractal dimension (0.0011)\n",
      "22. Feature worst compactness (0.0010)\n",
      "23. Feature mean smoothness (0.0009)\n",
      "24. Feature mean fractal dimension (0.0007)\n",
      "25. Feature fractal dimension error (0.0006)\n",
      "26. Feature smoothness error (0.0004)\n",
      "27. Feature mean perimeter (0.0004)\n",
      "28. Feature mean area (0.0003)\n",
      "29. Feature mean symmetry (0.0002)\n",
      "30. Feature mean radius (0.0000)\n"
     ]
    }
   ],
   "source": [
    "from sklearn import datasets\n",
    "from sklearn.model_selection import train_test_split\n",
    "from sklearn.ensemble import GradientBoostingClassifier\n",
    "import numpy as np\n",
    "\n",
    "\n",
    "data = datasets.load_breast_cancer()\n",
    "X, y = data.data, data.target\n",
    "\n",
    "X_train, X_test, y_train, y_test = train_test_split(X, y, test_size=0.3, random_state=42)\n",
    "\n",
    "clf = GradientBoostingClassifier(n_estimators=100, random_state=42)\n",
    "\n",
    "\n",
    "clf.fit(X_train, y_train)\n",
    "\n",
    "\n",
    "importances = clf.feature_importances_\n",
    "\n",
    "\n",
    "indices = np.argsort(importances)[::-1]\n",
    "\n",
    "\n",
    "print(\"Feature ranking:\")\n",
    "for f in range(X_train.shape[1]):\n",
    "    print(f\"{f + 1}. Feature {data.feature_names[indices[f]]} ({importances[indices[f]]:.4f})\")\n"
   ]
  },
  {
   "cell_type": "markdown",
   "id": "bb9ab3e9-7383-4c14-93a0-f57c817c36b6",
   "metadata": {},
   "source": [
    "17)Train a Gradient Boosting Regressor and evaluate using R-Squared Score"
   ]
  },
  {
   "cell_type": "code",
   "execution_count": null,
   "id": "f0767788-1ab0-4226-80d3-67cbc2d4489c",
   "metadata": {},
   "outputs": [],
   "source": [
    "Answer:-"
   ]
  },
  {
   "cell_type": "code",
   "execution_count": 15,
   "id": "bfd31acc-17f0-46d7-8150-66b00cde9fdf",
   "metadata": {},
   "outputs": [
    {
     "name": "stdout",
     "output_type": "stream",
     "text": [
      "Training R²: 0.8574\n",
      "Testing R²: 0.4310\n"
     ]
    }
   ],
   "source": [
    "from sklearn import datasets\n",
    "from sklearn.model_selection import train_test_split\n",
    "from sklearn.ensemble import GradientBoostingRegressor\n",
    "\n",
    "X, y = datasets.load_diabetes(return_X_y=True)\n",
    "\n",
    "X_train, X_test, y_train, y_test = train_test_split(X, y, test_size=0.3, random_state=42)\n",
    "\n",
    "model = GradientBoostingRegressor(n_estimators=100, random_state=42)\n",
    "\n",
    "model.fit(X_train, y_train)\n",
    "\n",
    "r2_train = model.score(X_train, y_train)\n",
    "r2_test = model.score(X_test, y_test)\n",
    "\n",
    "print(f\"Training R²: {r2_train:.4f}\")\n",
    "print(f\"Testing R²: {r2_test:.4f}\")\n"
   ]
  },
  {
   "cell_type": "markdown",
   "id": "75dfb062-ee82-4139-be17-86c309d7626f",
   "metadata": {},
   "source": [
    "18)Train an XGBoost Classifier on a dataset and compare accuracy with Gradient Boosting"
   ]
  },
  {
   "cell_type": "code",
   "execution_count": null,
   "id": "2b041918-ec96-4ca7-91c5-bc2fc2ca5bf6",
   "metadata": {},
   "outputs": [],
   "source": [
    "Answer:-"
   ]
  },
  {
   "cell_type": "code",
   "execution_count": 25,
   "id": "09ec7c52-d673-4e7a-884a-12ef1a71e8fd",
   "metadata": {},
   "outputs": [
    {
     "ename": "ModuleNotFoundError",
     "evalue": "No module named 'xgboost'",
     "output_type": "error",
     "traceback": [
      "\u001b[1;31m---------------------------------------------------------------------------\u001b[0m",
      "\u001b[1;31mModuleNotFoundError\u001b[0m                       Traceback (most recent call last)",
      "Cell \u001b[1;32mIn[25], line 2\u001b[0m\n\u001b[0;32m      1\u001b[0m \u001b[38;5;28;01mfrom\u001b[39;00m \u001b[38;5;21;01msklearn\u001b[39;00m\u001b[38;5;21;01m.\u001b[39;00m\u001b[38;5;21;01mensemble\u001b[39;00m \u001b[38;5;28;01mimport\u001b[39;00m GradientBoostingClassifier\n\u001b[1;32m----> 2\u001b[0m \u001b[38;5;28;01mfrom\u001b[39;00m \u001b[38;5;21;01mxgboost\u001b[39;00m \u001b[38;5;28;01mimport\u001b[39;00m XGBClassifier\n\u001b[0;32m      3\u001b[0m \u001b[38;5;28;01mfrom\u001b[39;00m \u001b[38;5;21;01msklearn\u001b[39;00m\u001b[38;5;21;01m.\u001b[39;00m\u001b[38;5;21;01mmodel_selection\u001b[39;00m \u001b[38;5;28;01mimport\u001b[39;00m train_test_split\n\u001b[0;32m      4\u001b[0m \u001b[38;5;28;01mfrom\u001b[39;00m \u001b[38;5;21;01msklearn\u001b[39;00m\u001b[38;5;21;01m.\u001b[39;00m\u001b[38;5;21;01mmetrics\u001b[39;00m \u001b[38;5;28;01mimport\u001b[39;00m accuracy_score\n",
      "\u001b[1;31mModuleNotFoundError\u001b[0m: No module named 'xgboost'"
     ]
    }
   ],
   "source": [
    "from sklearn.ensemble import GradientBoostingClassifier\n",
    "from xgboost import XGBClassifier\n",
    "from sklearn.model_selection import train_test_split\n",
    "from sklearn.metrics import accuracy_score\n",
    "\n",
    "X_train, X_test, y_train, y_test = train_test_split(X, y, test_size=0.2, random_state=42)\n",
    "\n",
    "gb_model = GradientBoostingClassifier()\n",
    "xgb_model = XGBClassifier()\n",
    "\n",
    "gb_model.fit(X_train, y_train)\n",
    "xgb_model.fit(X_train, y_train)\n",
    "\n",
    "gb_pred = gb_model.predict(X_test)\n",
    "xgb_pred = xgb_model.predict(X_test)\n",
    "\n",
    "gb_accuracy = accuracy_score(y_test, gb_pred)\n",
    "xgb_accuracy = accuracy_score(y_test, xgb_pred)\n",
    "\n",
    "print(f\"Gradient Boosting Accuracy: {gb_accuracy:.4f}\")\n",
    "print(f\"XGBoost Accuracy: {xgb_accuracy:.4f}\")\n"
   ]
  },
  {
   "cell_type": "markdown",
   "id": "c57bfcbd-f73b-4d0d-a50e-5a9436f49f78",
   "metadata": {},
   "source": [
    "19)Train a CatBoost Classifier and evaluate using F1-Score"
   ]
  },
  {
   "cell_type": "code",
   "execution_count": null,
   "id": "9895759a-9b43-45de-bee3-d76c7b871027",
   "metadata": {},
   "outputs": [],
   "source": [
    "Answer:-"
   ]
  },
  {
   "cell_type": "code",
   "execution_count": 29,
   "id": "8980e775-dfcf-4d26-9dbd-f584358b6610",
   "metadata": {},
   "outputs": [
    {
     "ename": "ModuleNotFoundError",
     "evalue": "No module named 'catboost'",
     "output_type": "error",
     "traceback": [
      "\u001b[1;31m---------------------------------------------------------------------------\u001b[0m",
      "\u001b[1;31mModuleNotFoundError\u001b[0m                       Traceback (most recent call last)",
      "Cell \u001b[1;32mIn[29], line 1\u001b[0m\n\u001b[1;32m----> 1\u001b[0m \u001b[38;5;28;01mfrom\u001b[39;00m \u001b[38;5;21;01mcatboost\u001b[39;00m \u001b[38;5;28;01mimport\u001b[39;00m CatBoostClassifier\n\u001b[0;32m      2\u001b[0m \u001b[38;5;28;01mfrom\u001b[39;00m \u001b[38;5;21;01msklearn\u001b[39;00m\u001b[38;5;21;01m.\u001b[39;00m\u001b[38;5;21;01mdatasets\u001b[39;00m \u001b[38;5;28;01mimport\u001b[39;00m load_breast_cancer\n\u001b[0;32m      3\u001b[0m \u001b[38;5;28;01mfrom\u001b[39;00m \u001b[38;5;21;01msklearn\u001b[39;00m\u001b[38;5;21;01m.\u001b[39;00m\u001b[38;5;21;01mmodel_selection\u001b[39;00m \u001b[38;5;28;01mimport\u001b[39;00m train_test_split\n",
      "\u001b[1;31mModuleNotFoundError\u001b[0m: No module named 'catboost'"
     ]
    }
   ],
   "source": [
    "from catboost import CatBoostClassifier\n",
    "from sklearn.datasets import load_breast_cancer\n",
    "from sklearn.model_selection import train_test_split\n",
    "from sklearn.metrics import f1_score\n",
    "\n",
    "data = load_breast_cancer()\n",
    "X, y = data.data, data.target\n",
    "\n",
    "X_train, X_test, y_train, y_test = train_test_split(X, y, test_size=0.2, random_state=42)\n",
    "\n",
    "model = CatBoostClassifier(iterations=100, learning_rate=0.1, depth=6, eval_metric='F1', verbose=0)\n",
    "\n",
    "model.fit(X_train, y_train)\n",
    "\n",
    "y_pred = model.predict(X_test)\n",
    "\n",
    "f1 = f1_score(y_test, y_pred)\n",
    "print(f'F1-Score: {f1:.4f}')\n"
   ]
  },
  {
   "cell_type": "markdown",
   "id": "1aa12ef1-dd3c-4ee8-af9f-a7db96fc1848",
   "metadata": {},
   "source": [
    "20)Train an XGBoost Regressor and evaluate using Mean Squared Error (MSE)4"
   ]
  },
  {
   "cell_type": "code",
   "execution_count": null,
   "id": "c019e5e5-3c0e-4268-8af4-e25f4f09e2d0",
   "metadata": {},
   "outputs": [],
   "source": [
    "Answer:-"
   ]
  },
  {
   "cell_type": "code",
   "execution_count": 35,
   "id": "adc19063-83bd-43ee-9497-f8b394968332",
   "metadata": {},
   "outputs": [
    {
     "ename": "SyntaxError",
     "evalue": "invalid syntax. Perhaps you forgot a comma? (1711868546.py, line 10)",
     "output_type": "error",
     "traceback": [
      "\u001b[1;36m  Cell \u001b[1;32mIn[35], line 10\u001b[1;36m\u001b[0m\n\u001b[1;33m    X_train, X_test, y_train, y_test = train_test_split(X, y, test_size=0.2, random_state=42\u001b[0m\n\u001b[1;37m                                                                                          ^\u001b[0m\n\u001b[1;31mSyntaxError\u001b[0m\u001b[1;31m:\u001b[0m invalid syntax. Perhaps you forgot a comma?\n"
     ]
    }
   ],
   "source": [
    "import xgboost as xgb\n",
    "from sklearn.datasets import load_boston\n",
    "from sklearn.model_selection import train_test_split\n",
    "from sklearn.metrics import mean_squared_error\n",
    "import numpy as np\n",
    "\n",
    "boston = load_boston()\n",
    "X, y = boston.data, boston.target\n",
    "\n",
    "X_train, X_test, y_train, y_test = train_test_split(X, y, test_size=0.2, random_state=42\n",
    "model = xgb.XGBRegressor(objective='reg:squarederror', n_estimators=100, learning_rate=0.1, max_depth=3)\n",
    "\n",
    "model.fit(X_train, y_train)\n",
    "y_pred = model.predict(X_test)\n",
    "\n",
    "mse = mean_squared_error(y_test, y_pred)\n",
    "rmse = np.sqrt(mse)\n",
    "\n",
    "print(f'Mean Squared Error:) {mse}\n"
   ]
  },
  {
   "cell_type": "markdown",
   "id": "93ccf86e-939e-4610-a912-bbbfd2ee11ce",
   "metadata": {},
   "source": [
    "21) Train an AdaBoost Classifier and visualize feature importance"
   ]
  },
  {
   "cell_type": "code",
   "execution_count": null,
   "id": "eaf2dbaf-c4af-4369-9f6b-1351196279a5",
   "metadata": {},
   "outputs": [],
   "source": [
    "Answer:-"
   ]
  },
  {
   "cell_type": "code",
   "execution_count": null,
   "id": "df75fd67-ad4e-443f-84b9-f3c2774ded2c",
   "metadata": {},
   "outputs": [],
   "source": [
    "import numpy as np\n",
    "import matplotlib.pyplot as plt\n",
    "from sklearn.ensemble import AdaBoostClassifier\n",
    "from sklearn.datasets import load_iris\n",
    "from sklearn.tree import DecisionTreeClassifier\n",
    "\n",
    "data = load_iris()\n",
    "X, y = data.data, data.target\n",
    "\n",
    "model = AdaBoostClassifier(base_estimator=DecisionTreeClassifier(max_depth=1), n_estimators=50, random_state=42)\n",
    "model.fit(X, y)\n",
    "\n",
    "importances = model.feature_importances_\n",
    "indices = np.argsort(importances)[::-1]\n",
    "\n",
    "plt.figure(figsize=(10, 6))\n",
    "plt.title(\"Feature Importances\")\n",
    "plt.bar(range(X.shape[1]), importances[indices], align=\"center\")\n",
    "plt.xticks(range(X.shape[1]), np.array(data.feature_names)[indices], rotation=90)\n",
    "plt.xlabel(\"Features\")\n",
    "plt.ylabel(\"Importance\")\n",
    "plt.tight_layout()\n",
    "plt.show()\n"
   ]
  },
  {
   "cell_type": "markdown",
   "id": "5d70b2f6-60fa-440c-a523-d1bcb7d14bb8",
   "metadata": {},
   "source": [
    "22)Train a Gradient Boosting Regressor and plot learning curves"
   ]
  },
  {
   "cell_type": "code",
   "execution_count": null,
   "id": "db736649-b6eb-48f9-94c7-dc84f11289c0",
   "metadata": {},
   "outputs": [],
   "source": [
    "Answer:-"
   ]
  },
  {
   "cell_type": "code",
   "execution_count": 41,
   "id": "f4caf5f4-39dd-44d8-8be5-35b531f954ad",
   "metadata": {},
   "outputs": [
    {
     "ename": "TypeError",
     "evalue": "LearningCurveDisplay.from_estimator() got an unexpected keyword argument 'X_train'",
     "output_type": "error",
     "traceback": [
      "\u001b[1;31m---------------------------------------------------------------------------\u001b[0m",
      "\u001b[1;31mTypeError\u001b[0m                                 Traceback (most recent call last)",
      "Cell \u001b[1;32mIn[41], line 25\u001b[0m\n\u001b[0;32m     21\u001b[0m reg \u001b[38;5;241m=\u001b[39m GradientBoostingRegressor(\u001b[38;5;241m*\u001b[39m\u001b[38;5;241m*\u001b[39mparams)\n\u001b[0;32m     24\u001b[0m fig, ax \u001b[38;5;241m=\u001b[39m plt\u001b[38;5;241m.\u001b[39msubplots(figsize\u001b[38;5;241m=\u001b[39m(\u001b[38;5;241m8\u001b[39m, \u001b[38;5;241m6\u001b[39m))\n\u001b[1;32m---> 25\u001b[0m LearningCurveDisplay\u001b[38;5;241m.\u001b[39mfrom_estimator(\n\u001b[0;32m     26\u001b[0m     reg,\n\u001b[0;32m     27\u001b[0m     X_train\u001b[38;5;241m=\u001b[39mX_train,\n\u001b[0;32m     28\u001b[0m     y_train\u001b[38;5;241m=\u001b[39my_train,\n\u001b[0;32m     29\u001b[0m     train_sizes\u001b[38;5;241m=\u001b[39mnp\u001b[38;5;241m.\u001b[39mlinspace(\u001b[38;5;241m0.1\u001b[39m, \u001b[38;5;241m1.0\u001b[39m, \u001b[38;5;241m5\u001b[39m),\n\u001b[0;32m     30\u001b[0m     cv\u001b[38;5;241m=\u001b[39m\u001b[38;5;241m5\u001b[39m,\n\u001b[0;32m     31\u001b[0m     scoring\u001b[38;5;241m=\u001b[39m\u001b[38;5;124m\"\u001b[39m\u001b[38;5;124mneg_mean_squared_error\u001b[39m\u001b[38;5;124m\"\u001b[39m,\n\u001b[0;32m     32\u001b[0m     ax\u001b[38;5;241m=\u001b[39max,\n\u001b[0;32m     33\u001b[0m )\n\u001b[0;32m     34\u001b[0m plt\u001b[38;5;241m.\u001b[39mtitle(\u001b[38;5;124m\"\u001b[39m\u001b[38;5;124mLearning Curves for Gradient Boosting Regressor\u001b[39m\u001b[38;5;124m\"\u001b[39m)\n\u001b[0;32m     35\u001b[0m plt\u001b[38;5;241m.\u001b[39mshow()\n",
      "\u001b[1;31mTypeError\u001b[0m: LearningCurveDisplay.from_estimator() got an unexpected keyword argument 'X_train'"
     ]
    },
    {
     "data": {
      "image/png": "[encoded data removed]",
      "text/plain": [
       "<Figure size 800x600 with 1 Axes>"
      ]
     },
     "metadata": {},
     "output_type": "display_data"
    }
   ],
   "source": [
    "import numpy as np\n",
    "import matplotlib.pyplot as plt\n",
    "from sklearn.datasets import load_diabetes\n",
    "from sklearn.model_selection import train_test_split\n",
    "from sklearn.ensemble import GradientBoostingRegressor\n",
    "from sklearn.model_selection import LearningCurveDisplay\n",
    "\n",
    "diabetes = load_diabetes()\n",
    "X, y = diabetes.data, diabetes.target\n",
    "\n",
    "X_train, X_test, y_train, y_test = train_test_split(X, y, test_size=0.1, random_state=13)\n",
    "\n",
    "\n",
    "params = {\n",
    "    \"n_estimators\": 500,\n",
    "    \"max_depth\": 4,\n",
    "    \"min_samples_split\": 5,\n",
    "    \"learning_rate\": 0.01,\n",
    "    \"loss\": \"squared_error\",\n",
    "}\n",
    "reg = GradientBoostingRegressor(**params)\n",
    "\n",
    "\n",
    "fig, ax = plt.subplots(figsize=(8, 6))\n",
    "LearningCurveDisplay.from_estimator(\n",
    "    reg,\n",
    "    X_train=X_train,\n",
    "    y_train=y_train,\n",
    "    train_sizes=np.linspace(0.1, 1.0, 5),\n",
    "    cv=5,\n",
    "    scoring=\"neg_mean_squared_error\",\n",
    "    ax=ax,\n",
    ")\n",
    "plt.title(\"Learning Curves for Gradient Boosting Regressor\")\n",
    "plt.show()\n"
   ]
  },
  {
   "cell_type": "markdown",
   "id": "3f383315-b8ec-4a52-8a3a-8a82048c20d6",
   "metadata": {},
   "source": [
    "23)Train an XGBoost Classifier and visualize feature importance"
   ]
  },
  {
   "cell_type": "code",
   "execution_count": null,
   "id": "6d1265d1-3faf-4ebb-a2dc-388bc71909b5",
   "metadata": {},
   "outputs": [],
   "source": [
    "Answer:-"
   ]
  },
  {
   "cell_type": "code",
   "execution_count": 43,
   "id": "d713c01c-0413-4e1d-a63e-38fd8b2aff75",
   "metadata": {},
   "outputs": [
    {
     "ename": "ModuleNotFoundError",
     "evalue": "No module named 'xgboost'",
     "output_type": "error",
     "traceback": [
      "\u001b[1;31m---------------------------------------------------------------------------\u001b[0m",
      "\u001b[1;31mModuleNotFoundError\u001b[0m                       Traceback (most recent call last)",
      "Cell \u001b[1;32mIn[43], line 1\u001b[0m\n\u001b[1;32m----> 1\u001b[0m \u001b[38;5;28;01mimport\u001b[39;00m \u001b[38;5;21;01mxgboost\u001b[39;00m \u001b[38;5;28;01mas\u001b[39;00m \u001b[38;5;21;01mxgb\u001b[39;00m\n\u001b[0;32m      2\u001b[0m \u001b[38;5;28;01mimport\u001b[39;00m \u001b[38;5;21;01mmatplotlib\u001b[39;00m\u001b[38;5;21;01m.\u001b[39;00m\u001b[38;5;21;01mpyplot\u001b[39;00m \u001b[38;5;28;01mas\u001b[39;00m \u001b[38;5;21;01mplt\u001b[39;00m\n\u001b[0;32m      3\u001b[0m \u001b[38;5;28;01mfrom\u001b[39;00m \u001b[38;5;21;01msklearn\u001b[39;00m\u001b[38;5;21;01m.\u001b[39;00m\u001b[38;5;21;01mdatasets\u001b[39;00m \u001b[38;5;28;01mimport\u001b[39;00m load_iris\n",
      "\u001b[1;31mModuleNotFoundError\u001b[0m: No module named 'xgboost'"
     ]
    }
   ],
   "source": [
    "import xgboost as xgb\n",
    "import matplotlib.pyplot as plt\n",
    "from sklearn.datasets import load_iris\n",
    "from sklearn.model_selection import train_test_split\n",
    "\n",
    "iris = load_iris()\n",
    "X, y = iris.data, iris.target\n",
    "\n",
    "X_train, X_test, y_train, y_test = train_test_split(X, y, test_size=0.2, random_state=42)\n",
    "\n",
    "model = xgb.XGBClassifier(objective='multi:softmax', num_class=3, random_state=42)\n",
    "\n",
    "model.fit(X_train, y_train)\n",
    "\n",
    "plt.figure(figsize=(10, 6))\n",
    "xgb.plot_importance(model, importance_type='weight', max_num_features=10, height=0.5)\n",
    "plt.title('Feature Importance')\n",
    "plt.show()\n"
   ]
  },
  {
   "cell_type": "markdown",
   "id": "47e3753e-27f7-406c-a64c-cf5acba6eb7b",
   "metadata": {},
   "source": [
    "24)Train a CatBoost Classifier and plot the confusion matrix"
   ]
  },
  {
   "cell_type": "code",
   "execution_count": null,
   "id": "9657f61f-9f2e-43b3-9f0c-66da5b578cc2",
   "metadata": {},
   "outputs": [],
   "source": [
    "Answer:-"
   ]
  },
  {
   "cell_type": "code",
   "execution_count": 53,
   "id": "b3c8c385-53a8-46e8-a132-8f932cc55102",
   "metadata": {},
   "outputs": [
    {
     "ename": "ModuleNotFoundError",
     "evalue": "No module named 'catboost'",
     "output_type": "error",
     "traceback": [
      "\u001b[1;31m---------------------------------------------------------------------------\u001b[0m",
      "\u001b[1;31mModuleNotFoundError\u001b[0m                       Traceback (most recent call last)",
      "Cell \u001b[1;32mIn[53], line 6\u001b[0m\n\u001b[0;32m      4\u001b[0m \u001b[38;5;28;01mfrom\u001b[39;00m \u001b[38;5;21;01msklearn\u001b[39;00m\u001b[38;5;21;01m.\u001b[39;00m\u001b[38;5;21;01mmodel_selection\u001b[39;00m \u001b[38;5;28;01mimport\u001b[39;00m train_test_split\n\u001b[0;32m      5\u001b[0m \u001b[38;5;28;01mfrom\u001b[39;00m \u001b[38;5;21;01msklearn\u001b[39;00m\u001b[38;5;21;01m.\u001b[39;00m\u001b[38;5;21;01mmetrics\u001b[39;00m \u001b[38;5;28;01mimport\u001b[39;00m confusion_matrix\n\u001b[1;32m----> 6\u001b[0m \u001b[38;5;28;01mfrom\u001b[39;00m \u001b[38;5;21;01mcatboost\u001b[39;00m \u001b[38;5;28;01mimport\u001b[39;00m CatBoostClassifier\n\u001b[0;32m      8\u001b[0m iris\u001b[38;5;241m=\u001b[39mload_iris()\n\u001b[0;32m      9\u001b[0m X, y\u001b[38;5;241m=\u001b[39miris\u001b[38;5;241m.\u001b[39mdata, iris\u001b[38;5;241m.\u001b[39mtarget\n",
      "\u001b[1;31mModuleNotFoundError\u001b[0m: No module named 'catboost'"
     ]
    }
   ],
   "source": [
    "import numpy as np\n",
    "import matplotlib.pyplot as plt\n",
    "from sklearn.datasets import load_iris\n",
    "from sklearn.model_selection import train_test_split\n",
    "from sklearn.metrics import confusion_matrix\n",
    "from catboost import CatBoostClassifier\n",
    "\n",
    "iris=load_iris()\n",
    "X, y=iris.data, iris.target\n",
    "\n",
    "X_train, X_test, y_train, y_test = train_test_split(X, y, test_size=0.2, random_state=42)\n",
    "\n",
    "model=CatBoostClassifier(iterations=100, learning_rate=0.1, depth=6, loss_function='MultiClass', verbose=0)\n",
    "\n",
    "model.fit(X_train, y_train)\n",
    "\n",
    "y_pred=model.predict(X_test)\n",
    "\n",
    "cm=confusion_matrix(y_test, y_pred)\n",
    "\n",
    "plt.figure(figsize=(8, 6))\n",
    "plt.imshow(cm, interpolation='nearest', cmap=plt.cm.Blues)\n",
    "plt.title('Confusion Matrix for CatBoost Classifier')\n",
    "plt.colorbar()\n",
    "classes = np.unique(y)\n",
    "plt.xticks(np.arange(len(classes)), classes)\n",
    "plt.yticks(np.arange(len(classes)), classes)\n",
    "plt.xlabel('Predicted Label')\n",
    "plt.ylabel('True Label')\n",
    "\n",
    "thresh=cm.max() / 2.\n",
    "for i in range(len(classes)):\n",
    "    for j in range(len(classes)):\n",
    "        plt.text(j, i, format(cm[i, j], 'd'),\n",
    "                 ha=\"center\", va=\"center\",\n",
    "                 color=\"white\")\n"
   ]
  },
  {
   "cell_type": "markdown",
   "id": "1829da6b-09d0-4e32-91cb-82ed84dcea1f",
   "metadata": {},
   "source": [
    "25)Train an AdaBoost Classifier with different numbers of estimators and compare accuracy"
   ]
  },
  {
   "cell_type": "code",
   "execution_count": null,
   "id": "bfb66914-f989-4e5c-8878-55938d7c6bea",
   "metadata": {},
   "outputs": [],
   "source": [
    "Answer:-"
   ]
  },
  {
   "cell_type": "code",
   "execution_count": 57,
   "id": "ec3af808-564b-4aa1-b413-23a241f60f87",
   "metadata": {},
   "outputs": [],
   "source": [
    "import numpy as np\n",
    "import matplotlib.pyplot as plt\n",
    "from sklearn.datasets import load_iris\n",
    "from sklearn.model_selection import train_test_split\n",
    "from sklearn.ensemble import AdaBoostClassifier\n",
    "from sklearn.tree import DecisionTreeClassifier\n",
    "from sklearn.metrics import accuracy_score\n",
    "\n",
    "\n",
    "iris = load_iris()\n",
    "X, y = iris.data, iris.target\n",
    "\n",
    "X_train, X_test, y_train, y_test = train_test_split(X, y, test_size=0.2, random_state=42)\n",
    "\n",
    "base_estimator = DecisionTreeClassifier(max_depth=1)\n",
    "\n",
    "n_estimators_list = [50, 100, 200, 300, 400, 500]\n",
    "train_accuracies = []\n",
    "test_accuracies = []\n"
   ]
  },
  {
   "cell_type": "markdown",
   "id": "f222c62e-cdc4-40b2-b240-544961532427",
   "metadata": {},
   "source": [
    "26)Train a Gradient Boosting Classifier and visualize the ROC curve"
   ]
  },
  {
   "cell_type": "code",
   "execution_count": null,
   "id": "9139f7df-f035-47e2-aff0-6fd51dddc924",
   "metadata": {},
   "outputs": [],
   "source": [
    "Answer:-"
   ]
  },
  {
   "cell_type": "code",
   "execution_count": 61,
   "id": "c4ccb8d9-3aae-4caf-9bd8-3957a4660288",
   "metadata": {},
   "outputs": [
    {
     "data": {
      "image/png": "[encoded data removed]",
      "text/plain": [
       "<Figure size 800x600 with 1 Axes>"
      ]
     },
     "metadata": {},
     "output_type": "display_data"
    }
   ],
   "source": [
    "import numpy as np\n",
    "import matplotlib.pyplot as plt\n",
    "from sklearn.datasets import load_iris\n",
    "from sklearn.model_selection import train_test_split\n",
    "from sklearn.ensemble import GradientBoostingClassifier\n",
    "from sklearn.metrics import roc_curve, auc\n",
    "\n",
    "\n",
    "iris = load_iris()\n",
    "X, y = iris.data, iris.target\n",
    "\n",
    "y = (y == 0).astype(int)  # Class 0 vs. all\n",
    "\n",
    "X_train, X_test, y_train, y_test = train_test_split(X, y, test_size=0.2, random_state=42)\n",
    "\n",
    "model = GradientBoostingClassifier(n_estimators=100, random_state=42)\n",
    "\n",
    "model.fit(X_train, y_train)\n",
    "\n",
    "y_probs = model.predict_proba(X_test)[:, 1]\n",
    "\n",
    "fpr, tpr, _ = roc_curve(y_test, y_probs)\n",
    "roc_auc = auc(fpr, tpr)\n",
    "\n",
    "plt.figure(figsize=(8, 6))\n",
    "plt.plot(fpr, tpr, color='b', label=f'AUC = {roc_auc:.2f}')\n",
    "plt.plot([0, 1], [0, 1], color='gray', linestyle='--')\n",
    "plt.title('Receiver Operating Characteristic (ROC) Curve')\n",
    "plt.xlabel('False Positive Rate')\n",
    "plt.ylabel('True Positive Rate')\n",
    "plt.legend(loc='lower right')\n",
    "plt.grid(True)\n",
    "plt.show()\n"
   ]
  },
  {
   "cell_type": "markdown",
   "id": "f07c2ee9-6e5c-4bc1-a686-e0e003f9fe11",
   "metadata": {},
   "source": [
    "27)Train an XGBoost Regressor and tune the learning rate using GridSearchCV"
   ]
  },
  {
   "cell_type": "code",
   "execution_count": null,
   "id": "69ce0884-a5ee-476d-83f9-e67a1c685735",
   "metadata": {},
   "outputs": [],
   "source": [
    "Answer:-"
   ]
  },
  {
   "cell_type": "code",
   "execution_count": 67,
   "id": "7821217a-b4c6-4f96-bf24-5bcb50a822d1",
   "metadata": {},
   "outputs": [
    {
     "ename": "NameError",
     "evalue": "name 'xgb' is not defined",
     "output_type": "error",
     "traceback": [
      "\u001b[1;31m---------------------------------------------------------------------------\u001b[0m",
      "\u001b[1;31mNameError\u001b[0m                                 Traceback (most recent call last)",
      "Cell \u001b[1;32mIn[67], line 20\u001b[0m\n\u001b[0;32m     12\u001b[0m cv \u001b[38;5;241m=\u001b[39m KFold(n_splits\u001b[38;5;241m=\u001b[39m\u001b[38;5;241m5\u001b[39m, shuffle\u001b[38;5;241m=\u001b[39m\u001b[38;5;28;01mTrue\u001b[39;00m, random_state\u001b[38;5;241m=\u001b[39m\u001b[38;5;241m42\u001b[39m)\n\u001b[0;32m     15\u001b[0m param_grid \u001b[38;5;241m=\u001b[39m {\n\u001b[0;32m     16\u001b[0m     \u001b[38;5;124m'\u001b[39m\u001b[38;5;124mlearning_rate\u001b[39m\u001b[38;5;124m'\u001b[39m: [\u001b[38;5;241m0.01\u001b[39m, \u001b[38;5;241m0.05\u001b[39m, \u001b[38;5;241m0.1\u001b[39m, \u001b[38;5;241m0.2\u001b[39m, \u001b[38;5;241m0.3\u001b[39m]\n\u001b[0;32m     17\u001b[0m }\n\u001b[1;32m---> 20\u001b[0m model \u001b[38;5;241m=\u001b[39m xgb\u001b[38;5;241m.\u001b[39mXGBRegressor(n_estimators\u001b[38;5;241m=\u001b[39m\u001b[38;5;241m100\u001b[39m, subsample\u001b[38;5;241m=\u001b[39m\u001b[38;5;241m0.8\u001b[39m, colsample_bytree\u001b[38;5;241m=\u001b[39m\u001b[38;5;241m0.8\u001b[39m, random_state\u001b[38;5;241m=\u001b[39m\u001b[38;5;241m42\u001b[39m)\n\u001b[0;32m     23\u001b[0m grid_search \u001b[38;5;241m=\u001b[39m GridSearchCV(estimator\u001b[38;5;241m=\u001b[39mmodel, param_grid\u001b[38;5;241m=\u001b[39mparam_grid, cv\u001b[38;5;241m=\u001b[39mcv, scoring\u001b[38;5;241m=\u001b[39m\u001b[38;5;124m'\u001b[39m\u001b[38;5;124mneg_mean_squared_error\u001b[39m\u001b[38;5;124m'\u001b[39m, n_jobs\u001b[38;5;241m=\u001b[39m\u001b[38;5;241m-\u001b[39m\u001b[38;5;241m1\u001b[39m, verbose\u001b[38;5;241m=\u001b[39m\u001b[38;5;241m1\u001b[39m)\n\u001b[0;32m     24\u001b[0m grid_search\u001b[38;5;241m.\u001b[39mfit(X, y)\n",
      "\u001b[1;31mNameError\u001b[0m: name 'xgb' is not defined"
     ]
    }
   ],
   "source": [
    "import numpy as np\n",
    "import matplotlib.pyplot as plt\n",
    "from sklearn.datasets import make_regression\n",
    "from sklearn.model_selection import GridSearchCV, KFold\n",
    "from sklearn.metrics import mean_squared_error\n",
    "\n",
    "\n",
    "\n",
    "X, y = make_regression(n_samples=1000, n_features=20, noise=0.1, random_state=42)\n",
    "\n",
    "\n",
    "cv = KFold(n_splits=5, shuffle=True, random_state=42)\n",
    "\n",
    "\n",
    "param_grid = {\n",
    "    'learning_rate': [0.01, 0.05, 0.1, 0.2, 0.3]\n",
    "}\n",
    "\n",
    "\n",
    "model = xgb.XGBRegressor(n_estimators=100, subsample=0.8, colsample_bytree=0.8, random_state=42)\n",
    "\n",
    "\n",
    "grid_search = GridSearchCV(estimator=model, param_grid=param_grid, cv=cv, scoring='neg_mean_squared_error', n_jobs=-1, verbose=1)\n",
    "grid_search.fit(X, y)\n",
    "\n",
    "print(f\"Best learning_rate: {grid_search.best_params_['learning_rate']}\")\n",
    "print(f\"Best CV MSE: {-grid_search.best_score_:.4f}\")\n",
    "\n",
    "results = grid_search.cv_results_\n",
    "\n",
    "plt.figure(figsize=(10, 6))\n",
    "plt.plot(param_grid['learning_rate'], -results['mean_test_score'], marker='o', linestyle='-', color='b')\n",
    "plt.fill_between(param_grid['learning_rate'], -results['mean_test_score'] - results['std_test_score'],\n",
    "                 -results['mean_test_score'] + results['std_test_score'], alpha=0.1, color='b')\n",
    "plt.xscale('log')\n",
    "plt.title('Learning Rate vs. MSE')\n",
    "plt.xlabel('Learning Rate (log scale)')\n",
    "plt.ylabel('CV Average MSE')\n",
    "plt.grid(True)\n",
    "plt.show()\n"
   ]
  },
  {
   "cell_type": "markdown",
   "id": "1115afda-49cc-4ab7-b45a-3793d2b5cd31",
   "metadata": {},
   "source": [
    "28)Train a CatBoost Classifier on an imbalanced dataset and compare performance with class weighting4"
   ]
  },
  {
   "cell_type": "code",
   "execution_count": null,
   "id": "8f592cff-a094-49d9-8fce-cd54bbd7f821",
   "metadata": {},
   "outputs": [],
   "source": [
    "Answer:-"
   ]
  },
  {
   "cell_type": "code",
   "execution_count": 75,
   "id": "beb6b4c8-1851-4e7d-b291-8c4513426856",
   "metadata": {},
   "outputs": [
    {
     "ename": "SyntaxError",
     "evalue": "f-string: unmatched ')' (3704362561.py, line 47)",
     "output_type": "error",
     "traceback": [
      "\u001b[1;36m  Cell \u001b[1;32mIn[75], line 47\u001b[1;36m\u001b[0m\n\u001b[1;33m    plt.plot(fpr_no_weights, tpr_no_weights, label=f'No Weights (AUC = {roc_auc_score(y_test, y_pred_pro_))}\u001b[0m\n\u001b[1;37m                                                                                                          ^\u001b[0m\n\u001b[1;31mSyntaxError\u001b[0m\u001b[1;31m:\u001b[0m f-string: unmatched ')'\n"
     ]
    }
   ],
   "source": [
    "import numpy as np\n",
    "import matplotlib.pyplot as plt\n",
    "from sklearn.datasets import make_classification\n",
    "from sklearn.model_selection import train_test_split\n",
    "from sklearn.metrics import classification_report, roc_auc_score\n",
    "from catboost import CatBoostClassifier\n",
    "\n",
    "\n",
    "X, y = make_classification(n_samples=1000, n_features=20, n_classes=2, \n",
    "                           weights=[0.9, 0.1], flip_y=0, random_state=42)\n",
    "\n",
    "\n",
    "X_train, X_test, y_train, y_test = train_test_split(X, y, test_size=0.2, random_state=42)\n",
    "\n",
    "\n",
    "model_no_weights = CatBoostClassifier(iterations=1000, learning_rate=0.1, depth=6, \n",
    "                                      eval_metric='AUC', random_seed=42, verbose=100)\n",
    "\n",
    "\n",
    "model_no_weights.fit(X_train, y_train, eval_set=(X_test, y_test))\n",
    "\n",
    "\n",
    "y_pred_no_weights = model_no_weights.predict(X_test)\n",
    "y_pred_proba_no_weights = model_no_weights.predict_proba(X_test)[:, 1]\n",
    "print(\"Without Class Weights:\")\n",
    "print(classification_report(y_test, y_pred_no_weights))\n",
    "print(\"ROC AUC Score:\", roc_auc_score(y_test, y_pred_proba_no_weights))\n",
    "\n",
    "model_with_weights = CatBoostClassifier(iterations=1000, learning_rate=0.1, depth=6, \n",
    "                                        eval_metric='AUC', random_seed=42, class_weights=[1, 9], verbose=100)\n",
    "\n",
    "model_with_weights.fit(X_train, y_train, eval_set=(X_test, y_test))\n",
    "\n",
    "\n",
    "y_pred_with_weights = model_with_weights.predict(X_test)\n",
    "y_pred_proba_with_weights = model_with_weights.predict_proba(X_test)[:, 1]\n",
    "print(\"\\nWith Class Weights:\")\n",
    "print(classification_report(y_test, y_pred_with_weights))\n",
    "print(\"ROC AUC Score:\", roc_auc_score(y_test, y_pred_proba_with_weights))\n",
    "\n",
    "from sklearn.metrics import roc_curve\n",
    "\n",
    "fpr_no_weights, tpr_no_weights, _ = roc_curve(y_test, y_pred_proba_no_weights)\n",
    "fpr_with_weights, tpr_with_weights, _ = roc_curve(y_test, y_pred_proba_with_weights)\n",
    "\n",
    "plt.figure(figsize=(8, 6))\n",
    "plt.plot(fpr_no_weights, tpr_no_weights, label=f'No Weights (AUC = {roc_auc_score(y_test, y_pred_pro_))}\n"
   ]
  },
  {
   "cell_type": "markdown",
   "id": "f687da9d-842b-4eaf-937d-f996545cd925",
   "metadata": {},
   "source": [
    "29)Train an AdaBoost Classifier and analyze the effect of different learning rates"
   ]
  },
  {
   "cell_type": "code",
   "execution_count": null,
   "id": "dfde978b-cb11-460b-8d14-a10417afa415",
   "metadata": {},
   "outputs": [],
   "source": [
    "Answer:-"
   ]
  },
  {
   "cell_type": "code",
   "execution_count": 79,
   "id": "461b4081-af2e-4d52-bef4-eb2ad951f8de",
   "metadata": {},
   "outputs": [
    {
     "name": "stderr",
     "output_type": "stream",
     "text": [
      "C:\\Users\\User\\anaconda3\\Lib\\site-packages\\sklearn\\ensemble\\_weight_boosting.py:527: FutureWarning: The SAMME.R algorithm (the default) is deprecated and will be removed in 1.6. Use the SAMME algorithm to circumvent this warning.\n",
      "  warnings.warn(\n",
      "C:\\Users\\User\\anaconda3\\Lib\\site-packages\\sklearn\\ensemble\\_weight_boosting.py:527: FutureWarning: The SAMME.R algorithm (the default) is deprecated and will be removed in 1.6. Use the SAMME algorithm to circumvent this warning.\n",
      "  warnings.warn(\n",
      "C:\\Users\\User\\anaconda3\\Lib\\site-packages\\sklearn\\ensemble\\_weight_boosting.py:527: FutureWarning: The SAMME.R algorithm (the default) is deprecated and will be removed in 1.6. Use the SAMME algorithm to circumvent this warning.\n",
      "  warnings.warn(\n",
      "C:\\Users\\User\\anaconda3\\Lib\\site-packages\\sklearn\\ensemble\\_weight_boosting.py:527: FutureWarning: The SAMME.R algorithm (the default) is deprecated and will be removed in 1.6. Use the SAMME algorithm to circumvent this warning.\n",
      "  warnings.warn(\n"
     ]
    },
    {
     "data": {
      "image/png": "[encoded data removed]",
      "text/plain": [
       "<Figure size 1000x600 with 1 Axes>"
      ]
     },
     "metadata": {},
     "output_type": "display_data"
    }
   ],
   "source": [
    "import numpy as np\n",
    "import matplotlib.pyplot as plt\n",
    "from sklearn.datasets import load_iris\n",
    "from sklearn.model_selection import train_test_split\n",
    "from sklearn.ensemble import AdaBoostClassifier\n",
    "from sklearn.metrics import accuracy_score\n",
    "\n",
    "\n",
    "iris = load_iris()\n",
    "X, y = iris.data, iris.target\n",
    "\n",
    "\n",
    "y = (y == 0).astype(int)  \n",
    "\n",
    "\n",
    "X_train, X_test, y_train, y_test = train_test_split(X, y, test_size=0.2, random_state=42)\n",
    "\n",
    "\n",
    "learning_rates = [0.01, 0.1, 0.5, 1.0]\n",
    "train_accuracies = []\n",
    "test_accuracies = []\n",
    "\n",
    "for lr in learning_rates:\n",
    "    model = AdaBoostClassifier(learning_rate=lr, n_estimators=100, random_state=42)\n",
    "    model.fit(X_train, y_train)\n",
    "    \n",
    "    y_train_pred = model.predict(X_train)\n",
    "    y_test_pred = model.predict(X_test)\n",
    "    \n",
    "\n",
    "    train_accuracies.append(accuracy_score(y_train, y_train_pred))\n",
    "    test_accuracies.append(accuracy_score(y_test, y_test_pred))\n",
    "\n",
    "plt.figure(figsize=(10, 6))\n",
    "plt.plot(learning_rates, train_accuracies, label='Train Accuracy', marker='o')\n",
    "plt.plot(learning_rates, test_accuracies, label='Test Accuracy', marker='o')\n",
    "plt.title('AdaBoost Classifier Accuracy vs. Learning Rate')\n",
    "plt.xlabel('Learning Rate')\n",
    "plt.ylabel('Accuracy')\n",
    "plt.legend()\n",
    "plt.grid(True)\n",
    "plt.show()\n"
   ]
  },
  {
   "cell_type": "markdown",
   "id": "aea1a4a7-4848-41c1-be66-7988ff654135",
   "metadata": {},
   "source": [
    "30)Train an XGBoost Classifier for multi-class classification and evaluate using log-loss."
   ]
  },
  {
   "cell_type": "code",
   "execution_count": null,
   "id": "296f1fa5-8e14-4c4e-af12-8a5c313ce8ea",
   "metadata": {},
   "outputs": [],
   "source": [
    "Answer:-"
   ]
  },
  {
   "cell_type": "code",
   "execution_count": 83,
   "id": "915467de-2245-46fb-9fba-947359a095f2",
   "metadata": {},
   "outputs": [
    {
     "ename": "ModuleNotFoundError",
     "evalue": "No module named 'xgboost'",
     "output_type": "error",
     "traceback": [
      "\u001b[1;31m---------------------------------------------------------------------------\u001b[0m",
      "\u001b[1;31mModuleNotFoundError\u001b[0m                       Traceback (most recent call last)",
      "Cell \u001b[1;32mIn[83], line 6\u001b[0m\n\u001b[0;32m      4\u001b[0m \u001b[38;5;28;01mfrom\u001b[39;00m \u001b[38;5;21;01msklearn\u001b[39;00m\u001b[38;5;21;01m.\u001b[39;00m\u001b[38;5;21;01mmodel_selection\u001b[39;00m \u001b[38;5;28;01mimport\u001b[39;00m train_test_split\n\u001b[0;32m      5\u001b[0m \u001b[38;5;28;01mfrom\u001b[39;00m \u001b[38;5;21;01msklearn\u001b[39;00m\u001b[38;5;21;01m.\u001b[39;00m\u001b[38;5;21;01mmetrics\u001b[39;00m \u001b[38;5;28;01mimport\u001b[39;00m log_loss\n\u001b[1;32m----> 6\u001b[0m \u001b[38;5;28;01mfrom\u001b[39;00m \u001b[38;5;21;01mxgboost\u001b[39;00m \u001b[38;5;28;01mimport\u001b[39;00m XGBClassifier\n\u001b[0;32m      9\u001b[0m X, y \u001b[38;5;241m=\u001b[39m make_classification(n_samples\u001b[38;5;241m=\u001b[39m\u001b[38;5;241m1000\u001b[39m, n_classes\u001b[38;5;241m=\u001b[39m\u001b[38;5;241m3\u001b[39m, n_features\u001b[38;5;241m=\u001b[39m\u001b[38;5;241m10\u001b[39m, n_informative\u001b[38;5;241m=\u001b[39m\u001b[38;5;241m5\u001b[39m, random_state\u001b[38;5;241m=\u001b[39m\u001b[38;5;241m42\u001b[39m)\n\u001b[0;32m     12\u001b[0m X_train, X_test, y_train, y_test \u001b[38;5;241m=\u001b[39m train_test_split(X, y, test_size\u001b[38;5;241m=\u001b[39m\u001b[38;5;241m0.2\u001b[39m, random_state\u001b[38;5;241m=\u001b[39m\u001b[38;5;241m42\u001b[39m)\n",
      "\u001b[1;31mModuleNotFoundError\u001b[0m: No module named 'xgboost'"
     ]
    }
   ],
   "source": [
    "import numpy as np\n",
    "import matplotlib.pyplot as plt\n",
    "from sklearn.datasets import make_classification\n",
    "from sklearn.model_selection import train_test_split\n",
    "from sklearn.metrics import log_loss\n",
    "from xgboost import XGBClassifier\n",
    "\n",
    "\n",
    "X, y = make_classification(n_samples=1000, n_classes=3, n_features=10, n_informative=5, random_state=42)\n",
    "\n",
    "\n",
    "X_train, X_test, y_train, y_test = train_test_split(X, y, test_size=0.2, random_state=42)\n",
    "\n",
    "\n",
    "model = XGBClassifier(objective=\"multi:softprob\", num_class=3, n_estimators=100, learning_rate=0.1, eval_metric=\"mlogloss\", random_state=42)\n",
    "\n",
    "\n",
    "model.fit(X_train, y_train, eval_set=[(X_test, y_test)], early_stopping_rounds=10, verbose=True)\n",
    "\n",
    "\n",
    "y_pred_proba = model.predict_proba(X_test)\n",
    "\n",
    "\n",
    "logloss = log_loss(y_test, y_pred_proba)\n",
    "print(f\"Log-Loss: {logloss:.4f}\")\n",
    "\n",
    "\n",
    "results = model.evals_result()\n",
    "epochs = len(results['validation_0']['mlogloss'])\n",
    "x_axis = range(_)\n"
   ]
  },
  {
   "cell_type": "code",
   "execution_count": null,
   "id": "a4c527c4-74c2-4a4f-80a0-2349cc72cf52",
   "metadata": {},
   "outputs": [],
   "source": []
  }
 ],
 "metadata": {
  "kernelspec": {
   "display_name": "Python [conda env:base] *",
   "language": "python",
   "name": "conda-base-py"
  },
  "language_info": {
   "codemirror_mode": {
    "name": "ipython",
    "version": 3
   },
   "file_extension": ".py",
   "mimetype": "text/x-python",
   "name": "python",
   "nbconvert_exporter": "python",
   "pygments_lexer": "ipython3",
   "version": "3.12.7"
  }
 },
 "nbformat": 4,
 "nbformat_minor": 5
}
