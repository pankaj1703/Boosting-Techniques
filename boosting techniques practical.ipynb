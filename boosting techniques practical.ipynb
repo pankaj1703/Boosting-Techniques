{
 "cells": [
  {
   "cell_type": "markdown",
   "id": "d9900a5a-806a-4e65-abb6-1b403407b1af",
   "metadata": {},
   "source": [
    "                                                                    practical "
   ]
  },
  {
   "cell_type": "markdown",
   "id": "9565d4f4-0447-4033-b2aa-8d6f4e90d504",
   "metadata": {},
   "source": [
    "1)Train an AdaBoost Classifier on a sample dataset and print model accuracy"
   ]
  },
  {
   "cell_type": "code",
   "execution_count": null,
   "id": "e50a7d16-4270-4841-936c-ffe8a6c975a4",
   "metadata": {},
   "outputs": [],
   "source": [
    "Answer:-"
   ]
  },
  {
   "cell_type": "code",
   "execution_count": null,
   "id": "c778d024-3313-4edd-af31-4962e4c6f2e3",
   "metadata": {},
   "outputs": [],
   "source": [
    "from sklearn import datasets\n",
    "from sklearn.model_selection import train_test_split\n",
    "from sklearn.ensemble import AdaBoostClassifier\n",
    "from sklearn.tree import DecisionTreeClassifier\n",
    "from sklearn.metrics import accuracy_score\n",
    "\n",
    "X,Y=datasets.load_iris(return_X_Y=True)\n",
    "\n",
    "X_train, X_test, Y_train, Y_test = train_test_split(X, Y, test_size=0.3, random_state=42)\n",
    "\n",
    "model = AdaBoostClassifier(\n",
    "    base_estimator=DecisionTreeClassifier(max_depth=1),n_estimators=50,learning_rate=1.0,random_state=42)\n",
    "\n",
    "\n",
    "model.fit(X_train, Y_train)\n",
    "\n",
    "\n",
    "Y_pred = model.predict(X_test)\n",
    "\n",
    "accuracy = accuracy_score(Y_test, Y_pred)\n",
    "print(f\"Model Accuracy: {accuracy:.4f}\")"
   ]
  },
  {
   "cell_type": "markdown",
   "id": "9b49ec40-8154-49d8-9d97-b68f4a8d5b92",
   "metadata": {},
   "source": [
    "2)Train an AdaBoost Regressor and evaluate performance using Mean Absolute Error (MAE)"
   ]
  },
  {
   "cell_type": "code",
   "execution_count": null,
   "id": "af2a1a86-6688-4d07-822b-f220e5894dc6",
   "metadata": {},
   "outputs": [],
   "source": [
    "Answer:-"
   ]
  },
  {
   "cell_type": "code",
   "execution_count": null,
   "id": "fa439c23-02d6-4f27-9a6b-29f84e101a9f",
   "metadata": {},
   "outputs": [],
   "source": [
    "from sklearn import datasets\n",
    "from sklearn.model_selection import train_test_split\n",
    "from sklearn.ensemble import AdaBoostRegressor\n",
    "from sklearn.tree import DecisionTreeRegressor\n",
    "from sklearn.metrics import mean_absolute_error\n",
    "\n",
    "\n",
    "X, y = datasets.load_diabetes(return_X_y=True)\n",
    "\n",
    "\n",
    "X_train, X_test, y_train, y_test = train_test_split(X, y, test_size=0.3, random_state=42)\n",
    "\n",
    "model = AdaBoostRegressor(\n",
    "    base_estimator=DecisionTreeRegressor(max_depth=4), \n",
    "    n_estimators=100,  \n",
    "    learning_rate=0.5,  \n",
    "    random_state=42\n",
    ")\n",
    "\n",
    "\n",
    "model.fit(X_train, y_train)\n",
    "\n",
    "\n",
    "y_pred = model.predict(X_test)\n",
    "\n",
    "\n",
    "mae = mean_absolute_error(y_test, y_pred)\n",
    "print(f\"Mean Absolute Error: {mae:.4f}\")"
   ]
  },
  {
   "cell_type": "code",
   "execution_count": null,
   "id": "ea153f94-548f-4fb0-8ab4-069219b4388b",
   "metadata": {},
   "outputs": [],
   "source": [
    "3)Train a Gradient Boosting Classifier on the Breast Cancer dataset and print feature importance"
   ]
  },
  {
   "cell_type": "code",
   "execution_count": null,
   "id": "826f9838-9279-4dcf-a871-fe354d939cc6",
   "metadata": {},
   "outputs": [],
   "source": [
    "Answer:-"
   ]
  },
  {
   "cell_type": "code",
   "execution_count": 2,
   "id": "feb9d74b-b459-4007-a67e-fa0870062c92",
   "metadata": {},
   "outputs": [
    {
     "name": "stdout",
     "output_type": "stream",
     "text": [
      "Feature ranking:\n",
      "1. Feature mean concave points (0.4349)\n",
      "2. Feature worst concave points (0.2738)\n",
      "3. Feature worst perimeter (0.0510)\n",
      "4. Feature worst area (0.0480)\n",
      "5. Feature worst texture (0.0472)\n",
      "6. Feature worst radius (0.0454)\n",
      "7. Feature worst concavity (0.0230)\n",
      "8. Feature mean texture (0.0184)\n",
      "9. Feature concavity error (0.0156)\n",
      "10. Feature radius error (0.0100)\n",
      "11. Feature area error (0.0055)\n",
      "12. Feature worst smoothness (0.0045)\n",
      "13. Feature compactness error (0.0044)\n",
      "14. Feature concave points error (0.0034)\n",
      "15. Feature perimeter error (0.0020)\n",
      "16. Feature symmetry error (0.0018)\n",
      "17. Feature mean compactness (0.0017)\n",
      "18. Feature texture error (0.0013)\n",
      "19. Feature worst symmetry (0.0013)\n",
      "20. Feature mean concavity (0.0012)\n",
      "21. Feature worst fractal dimension (0.0011)\n",
      "22. Feature worst compactness (0.0010)\n",
      "23. Feature mean smoothness (0.0009)\n",
      "24. Feature mean fractal dimension (0.0007)\n",
      "25. Feature fractal dimension error (0.0006)\n",
      "26. Feature smoothness error (0.0004)\n",
      "27. Feature mean perimeter (0.0004)\n",
      "28. Feature mean area (0.0003)\n",
      "29. Feature mean symmetry (0.0002)\n",
      "30. Feature mean radius (0.0000)\n"
     ]
    }
   ],
   "source": [
    "from sklearn import datasets\n",
    "from sklearn.model_selection import train_test_split\n",
    "from sklearn.ensemble import GradientBoostingClassifier\n",
    "import numpy as np\n",
    "\n",
    "\n",
    "data = datasets.load_breast_cancer()\n",
    "X, y = data.data, data.target\n",
    "\n",
    "X_train, X_test, y_train, y_test = train_test_split(X, y, test_size=0.3, random_state=42)\n",
    "\n",
    "clf = GradientBoostingClassifier(n_estimators=100, random_state=42)\n",
    "\n",
    "\n",
    "clf.fit(X_train, y_train)\n",
    "\n",
    "\n",
    "importances = clf.feature_importances_\n",
    "\n",
    "\n",
    "indices = np.argsort(importances)[::-1]\n",
    "\n",
    "\n",
    "print(\"Feature ranking:\")\n",
    "for f in range(X_train.shape[1]):\n",
    "    print(f\"{f + 1}. Feature {data.feature_names[indices[f]]} ({importances[indices[f]]:.4f})\")"
   ]
  },
  {
   "cell_type": "markdown",
   "id": "2cf94cf4-20b2-462c-bd73-76b135c2a2a8",
   "metadata": {},
   "source": [
    "4)Train a Gradient Boosting Regressor and evaluate using R-Squared Score"
   ]
  },
  {
   "cell_type": "code",
   "execution_count": null,
   "id": "e88f5776-2b02-42d2-bf95-4f27d166e568",
   "metadata": {},
   "outputs": [],
   "source": [
    "Answer:-"
   ]
  },
  {
   "cell_type": "code",
   "execution_count": 4,
   "id": "8ec6d391-1304-4674-a335-44ccfc8be0c0",
   "metadata": {},
   "outputs": [
    {
     "name": "stdout",
     "output_type": "stream",
     "text": [
      "Training R²: 0.8574\n",
      "Testing R²: 0.4310\n"
     ]
    }
   ],
   "source": [
    "from sklearn import datasets\n",
    "from sklearn.model_selection import train_test_split\n",
    "from sklearn.ensemble import GradientBoostingRegressor\n",
    "\n",
    "X, y = datasets.load_diabetes(return_X_y=True)\n",
    "\n",
    "X_train, X_test, y_train, y_test = train_test_split(X, y, test_size=0.3, random_state=42)\n",
    "\n",
    "model = GradientBoostingRegressor(n_estimators=100, random_state=42)\n",
    "\n",
    "model.fit(X_train, y_train)\n",
    "\n",
    "r2_train = model.score(X_train, y_train)\n",
    "r2_test = model.score(X_test, y_test)\n",
    "\n",
    "print(f\"Training R²: {r2_train:.4f}\")\n",
    "print(f\"Testing R²: {r2_test:.4f}\")"
   ]
  },
  {
   "cell_type": "markdown",
   "id": "bd368df1-c140-4298-ac82-4bf21afe3fad",
   "metadata": {},
   "source": [
    "5)Train an XGBoost Classifier on a dataset and compare accuracy with Gradient Boosting"
   ]
  },
  {
   "cell_type": "code",
   "execution_count": null,
   "id": "0b01c17a-a2b6-433b-8903-e1039b6fb328",
   "metadata": {},
   "outputs": [],
   "source": [
    "Answer:-"
   ]
  },
  {
   "cell_type": "code",
   "execution_count": null,
   "id": "c526f28b-b1fd-4c2f-9249-99daf95e6021",
   "metadata": {},
   "outputs": [],
   "source": [
    "from sklearn.ensemble import GradientBoostingClassifier\n",
    "from xgboost import XGBClassifier\n",
    "from sklearn.model_selection import train_test_split\n",
    "from sklearn.metrics import accuracy_score\n",
    "\n",
    "X_train, X_test, y_train, y_test = train_test_split(X, y, test_size=0.2, random_state=42)\n",
    "\n",
    "gb_model = GradientBoostingClassifier()\n",
    "xgb_model = XGBClassifier()\n",
    "\n",
    "gb_model.fit(X_train, y_train)\n",
    "xgb_model.fit(X_train, y_train)\n",
    "\n",
    "gb_pred = gb_model.predict(X_test)\n",
    "xgb_pred = xgb_model.predict(X_test)\n",
    "\n",
    "gb_accuracy = accuracy_score(y_test, gb_pred)\n",
    "xgb_accuracy = accuracy_score(y_test, xgb_pred)\n",
    "\n",
    "print(f\"Gradient Boosting Accuracy: {gb_accuracy:.4f}\")\n",
    "print(f\"XGBoost Accuracy: {xgb_accuracy:.4f}\")"
   ]
  },
  {
   "cell_type": "markdown",
   "id": "f66633b8-3ff7-4cc6-ab26-192129e70a76",
   "metadata": {},
   "source": [
    "6)Train a CatBoost Classifier and evaluate using F1-Score"
   ]
  },
  {
   "cell_type": "code",
   "execution_count": null,
   "id": "be51c029-c6ed-4528-ba29-d59f80f675d4",
   "metadata": {},
   "outputs": [],
   "source": [
    "Answer:-"
   ]
  },
  {
   "cell_type": "code",
   "execution_count": null,
   "id": "f20378ca-ca83-43f8-bb84-10fc441f936f",
   "metadata": {},
   "outputs": [],
   "source": [
    "from catboost import CatBoostClassifier\n",
    "from sklearn.datasets import load_breast_cancer\n",
    "from sklearn.model_selection import train_test_split\n",
    "from sklearn.metrics import f1_score\n",
    "\n",
    "data = load_breast_cancer()\n",
    "X, y = data.data, data.target\n",
    "\n",
    "X_train, X_test, y_train, y_test = train_test_split(X, y, test_size=0.2, random_state=42)\n",
    "\n",
    "model = CatBoostClassifier(iterations=100, learning_rate=0.1, depth=6, eval_metric='F1', verbose=0)\n",
    "\n",
    "model.fit(X_train, y_train)\n",
    "\n",
    "y_pred = model.predict(X_test)\n",
    "\n",
    "f1 = f1_score(y_test, y_pred)\n",
    "print(f'F1-Score: {f1:.4f}')\n"
   ]
  },
  {
   "cell_type": "markdown",
   "id": "156d4fe9-4f92-456a-8b9c-3b301c126dfc",
   "metadata": {},
   "source": [
    "7)Train an XGBoost Regressor and evaluate using Mean Squared Error (MSE)4"
   ]
  },
  {
   "cell_type": "code",
   "execution_count": null,
   "id": "d89b339b-6255-4423-bf47-ec48a9c4c28f",
   "metadata": {},
   "outputs": [],
   "source": [
    "Answer:-"
   ]
  },
  {
   "cell_type": "code",
   "execution_count": null,
   "id": "16e1cfe6-75d8-4fde-8011-eb813b85b12e",
   "metadata": {},
   "outputs": [],
   "source": [
    "import xgboost as xgb\n",
    "from sklearn.datasets import load_boston\n",
    "from sklearn.model_selection import train_test_split\n",
    "from sklearn.metrics import mean_squared_error\n",
    "import numpy as np\n",
    "\n",
    "boston = load_boston()\n",
    "X, y = boston.data, boston.target\n",
    "\n",
    "X_train, X_test, y_train, y_test = train_test_split(X, y, test_size=0.2, random_state=42\n",
    "model = xgb.XGBRegressor(objective='reg:squarederror', n_estimators=100, learning_rate=0.1, max_depth=3)\n",
    "\n",
    "model.fit(X_train, y_train)\n",
    "y_pred = model.predict(X_test)\n",
    "\n",
    "mse = mean_squared_error(y_test, y_pred)\n",
    "rmse = np.sqrt(mse)\n",
    "\n",
    "print(f'Mean Squared Error:) {mse}"
   ]
  },
  {
   "cell_type": "code",
   "execution_count": null,
   "id": "1d33e738-d9f0-4c7c-a4d9-e524780070b3",
   "metadata": {},
   "outputs": [],
   "source": [
    "8)Train an AdaBoost Classifier and visualize feature importance"
   ]
  },
  {
   "cell_type": "code",
   "execution_count": null,
   "id": "ff305858-b329-4729-850e-979dc54c2a54",
   "metadata": {},
   "outputs": [],
   "source": [
    "Answer:-"
   ]
  },
  {
   "cell_type": "code",
   "execution_count": 6,
   "id": "2f3e92be-38b1-45ee-b3d7-c24cfe65d403",
   "metadata": {},
   "outputs": [
    {
     "ename": "TypeError",
     "evalue": "AdaBoostClassifier.__init__() got an unexpected keyword argument 'base_estimator'",
     "output_type": "error",
     "traceback": [
      "\u001b[1;31m---------------------------------------------------------------------------\u001b[0m",
      "\u001b[1;31mTypeError\u001b[0m                                 Traceback (most recent call last)",
      "Cell \u001b[1;32mIn[6], line 10\u001b[0m\n\u001b[0;32m      7\u001b[0m data \u001b[38;5;241m=\u001b[39m load_iris()\n\u001b[0;32m      8\u001b[0m X, y \u001b[38;5;241m=\u001b[39m data\u001b[38;5;241m.\u001b[39mdata, data\u001b[38;5;241m.\u001b[39mtarget\n\u001b[1;32m---> 10\u001b[0m model \u001b[38;5;241m=\u001b[39m AdaBoostClassifier(base_estimator\u001b[38;5;241m=\u001b[39mDecisionTreeClassifier(max_depth\u001b[38;5;241m=\u001b[39m\u001b[38;5;241m1\u001b[39m), n_estimators\u001b[38;5;241m=\u001b[39m\u001b[38;5;241m50\u001b[39m, random_state\u001b[38;5;241m=\u001b[39m\u001b[38;5;241m42\u001b[39m)\n\u001b[0;32m     11\u001b[0m model\u001b[38;5;241m.\u001b[39mfit(X, y)\n\u001b[0;32m     13\u001b[0m importances \u001b[38;5;241m=\u001b[39m model\u001b[38;5;241m.\u001b[39mfeature_importances_\n",
      "\u001b[1;31mTypeError\u001b[0m: AdaBoostClassifier.__init__() got an unexpected keyword argument 'base_estimator'"
     ]
    }
   ],
   "source": [
    "import numpy as np\n",
    "import matplotlib.pyplot as plt\n",
    "from sklearn.ensemble import AdaBoostClassifier\n",
    "from sklearn.datasets import load_iris\n",
    "from sklearn.tree import DecisionTreeClassifier\n",
    "\n",
    "data = load_iris()\n",
    "X, y = data.data, data.target\n",
    "\n",
    "model = AdaBoostClassifier(base_estimator=DecisionTreeClassifier(max_depth=1), n_estimators=50, random_state=42)\n",
    "model.fit(X, y)\n",
    "\n",
    "importances = model.feature_importances_\n",
    "indices = np.argsort(importances)[::-1]\n",
    "\n",
    "plt.figure(figsize=(10, 6))\n",
    "plt.title(\"Feature Importances\")\n",
    "plt.bar(range(X.shape[1]), importances[indices], align=\"center\")\n",
    "plt.xticks(range(X.shape[1]), np.array(data.feature_names)[indices], rotation=90)\n",
    "plt.xlabel(\"Features\")\n",
    "plt.ylabel(\"Importance\")\n",
    "plt.tight_layout()\n",
    "plt.show()\n"
   ]
  },
  {
   "cell_type": "code",
   "execution_count": null,
   "id": "7aea5734-6015-4a16-b289-549e6d676e8f",
   "metadata": {},
   "outputs": [],
   "source": [
    "9)Train a Gradient Boosting Regressor and plot learning curves"
   ]
  },
  {
   "cell_type": "code",
   "execution_count": null,
   "id": "6004a1aa-c129-40e6-8442-9805d36dcd0d",
   "metadata": {},
   "outputs": [],
   "source": [
    "Answer:-"
   ]
  },
  {
   "cell_type": "code",
   "execution_count": null,
   "id": "25dcd81c-395f-4a60-979d-5c1cbc9bc278",
   "metadata": {},
   "outputs": [],
   "source": [
    "import numpy as np\n",
    "import matplotlib.pyplot as plt\n",
    "from sklearn.datasets import load_diabetes\n",
    "from sklearn.model_selection import train_test_split\n",
    "from sklearn.ensemble import GradientBoostingRegressor\n",
    "from sklearn.model_selection import LearningCurveDisplay\n",
    "\n",
    "diabetes = load_diabetes()\n",
    "X, y = diabetes.data, diabetes.target\n",
    "\n",
    "X_train, X_test, y_train, y_test = train_test_split(X, y, test_size=0.1, random_state=13)\n",
    "\n",
    "\n",
    "params = {\n",
    "    \"n_estimators\": 500,\n",
    "    \"max_depth\": 4,\n",
    "    \"min_samples_split\": 5,\n",
    "    \"learning_rate\": 0.01,\n",
    "    \"loss\": \"squared_error\",\n",
    "}\n",
    "reg = GradientBoostingRegressor(**params)\n",
    "\n",
    "\n",
    "fig, ax = plt.subplots(figsize=(8, 6))\n",
    "LearningCurveDisplay.from_estimator(\n",
    "    reg,\n",
    "    X_train=X_train,\n",
    "    y_train=y_train,\n",
    "    train_sizes=np.linspace(0.1, 1.0, 5),\n",
    "    cv=5,\n",
    "    scoring=\"neg_mean_squared_error\",\n",
    "    ax=ax,\n",
    ")\n",
    "plt.title(\"Learning Curves for Gradient Boosting Regressor\")\n",
    "plt.show()"
   ]
  },
  {
   "cell_type": "markdown",
   "id": "0166f3b9-cb59-45cb-8254-2d2e91ecd53d",
   "metadata": {},
   "source": [
    "10)Train an XGBoost Classifier and visualize feature importance"
   ]
  },
  {
   "cell_type": "code",
   "execution_count": null,
   "id": "c2605400-8b28-431e-8ccc-d5a5e4231a42",
   "metadata": {},
   "outputs": [],
   "source": [
    "Answer:-"
   ]
  },
  {
   "cell_type": "code",
   "execution_count": null,
   "id": "f094c82a-0660-42bc-a059-35dfb839dcf8",
   "metadata": {},
   "outputs": [],
   "source": [
    "import xgboost as xgb\n",
    "import matplotlib.pyplot as plt\n",
    "from sklearn.datasets import load_iris\n",
    "from sklearn.model_selection import train_test_split\n",
    "\n",
    "iris = load_iris()\n",
    "X, y = iris.data, iris.target\n",
    "\n",
    "X_train, X_test, y_train, y_test = train_test_split(X, y, test_size=0.2, random_state=42)\n",
    "\n",
    "model = xgb.XGBClassifier(objective='multi:softmax', num_class=3, random_state=42)\n",
    "\n",
    "model.fit(X_train, y_train)\n",
    "\n",
    "plt.figure(figsize=(10, 6))\n",
    "xgb.plot_importance(model, importance_type='weight', max_num_features=10, height=0.5)\n",
    "plt.title('Feature Importance')\n",
    "plt.show()\n"
   ]
  },
  {
   "cell_type": "code",
   "execution_count": null,
   "id": "5700f9d5-e7eb-44a6-af88-5c4a01dfacb5",
   "metadata": {},
   "outputs": [],
   "source": [
    "11)Train a CatBoost Classifier and plot the confusion matrix4"
   ]
  },
  {
   "cell_type": "code",
   "execution_count": null,
   "id": "cb4fa036-e152-4370-828d-411e3b95587b",
   "metadata": {},
   "outputs": [],
   "source": [
    "Answer:-"
   ]
  },
  {
   "cell_type": "code",
   "execution_count": 8,
   "id": "60c9ee3f-726b-4002-89fa-d3c9243cc054",
   "metadata": {},
   "outputs": [
    {
     "ename": "NameError",
     "evalue": "name 'cm' is not defined",
     "output_type": "error",
     "traceback": [
      "\u001b[1;31m---------------------------------------------------------------------------\u001b[0m",
      "\u001b[1;31mNameError\u001b[0m                                 Traceback (most recent call last)",
      "Cell \u001b[1;32mIn[8], line 3\u001b[0m\n\u001b[0;32m      1\u001b[0m \u001b[38;5;66;03m# Plot the confusion matrix\u001b[39;00m\n\u001b[0;32m      2\u001b[0m plt\u001b[38;5;241m.\u001b[39mfigure(figsize\u001b[38;5;241m=\u001b[39m(\u001b[38;5;241m6\u001b[39m, \u001b[38;5;241m5\u001b[39m))\n\u001b[1;32m----> 3\u001b[0m plt\u001b[38;5;241m.\u001b[39mimshow(cm, interpolation\u001b[38;5;241m=\u001b[39m\u001b[38;5;124m'\u001b[39m\u001b[38;5;124mnearest\u001b[39m\u001b[38;5;124m'\u001b[39m, cmap\u001b[38;5;241m=\u001b[39mplt\u001b[38;5;241m.\u001b[39mcm\u001b[38;5;241m.\u001b[39mBlues)\n\u001b[0;32m      4\u001b[0m plt\u001b[38;5;241m.\u001b[39mtitle(\u001b[38;5;124m\"\u001b[39m\u001b[38;5;124mConfusion Matrix\u001b[39m\u001b[38;5;124m\"\u001b[39m)\n\u001b[0;32m      5\u001b[0m plt\u001b[38;5;241m.\u001b[39mcolorbar()\n",
      "\u001b[1;31mNameError\u001b[0m: name 'cm' is not defined"
     ]
    },
    {
     "data": {
      "text/plain": [
       "<Figure size 600x500 with 0 Axes>"
      ]
     },
     "metadata": {},
     "output_type": "display_data"
    }
   ],
   "source": [
    "\n",
    "plt.figure(figsize=(6, 5))\n",
    "plt.imshow(cm, interpolation='nearest', cmap=plt.cm.Blues)\n",
    "plt.title(\"Confusion Matrix\")\n",
    "plt.colorbar()\n",
    "classes = iris.target_names\n",
    "tick_marks = np.arange(len(classes))\n",
    "plt.xticks(tick_marks, classes, rotation=45)\n",
    "plt.yticks(tick_marks, classes)\n",
    "\n",
    "thresh = cm.max() / 2.\n",
    "for i, j in np.ndindex(cm.shape):\n",
    "    plt.text(j, i, cm[i, j], horizontalalignment=\"center\",\n",
    "             color=\"white\" if cm[i, j] > thresh else \"black\")\n",
    "\n",
    "plt.ylabel('True label')\n",
    "plt.xlabel('Predicted label')\n",
    "plt.tight_layout()\n",
    "plt.show()\n"
   ]
  },
  {
   "cell_type": "markdown",
   "id": "799f409a-f137-4bde-9c93-a4c419096437",
   "metadata": {},
   "source": [
    "12)Train an AdaBoost Classifier with different numbers of estimators and compare accuracy"
   ]
  },
  {
   "cell_type": "code",
   "execution_count": null,
   "id": "fdfe5cc9-c259-44df-8df4-4e299a1dcc60",
   "metadata": {},
   "outputs": [],
   "source": [
    "Answer:-"
   ]
  },
  {
   "cell_type": "code",
   "execution_count": null,
   "id": "1f3425b7-8ea3-4c61-bed7-b217240bde54",
   "metadata": {},
   "outputs": [],
   "source": [
    "import numpy as np\n",
    "import matplotlib.pyplot as plt\n",
    "from sklearn.datasets import load_iris\n",
    "from sklearn.model_selection import train_test_split\n",
    "from sklearn.ensemble import AdaBoostClassifier\n",
    "from sklearn.tree import DecisionTreeClassifier\n",
    "from sklearn.metrics import accuracy_score\n",
    "\n",
    "\n",
    "iris = load_iris()\n",
    "X, y = iris.data, iris.target\n",
    "\n",
    "X_train, X_test, y_train, y_test = train_test_split(X, y, test_size=0.2, random_state=42)\n",
    "\n",
    "base_estimator = DecisionTreeClassifier(max_depth=1)\n",
    "\n",
    "n_estimators_list = [50, 100, 200, 300, 400, 500]\n",
    "train_accuracies = []\n",
    "test_accuracies = []"
   ]
  },
  {
   "cell_type": "markdown",
   "id": "1878c4cb-30d0-4f94-984a-0828ef767971",
   "metadata": {},
   "source": [
    "13)Train a Gradient Boosting Classifier and visualize the ROC curve"
   ]
  },
  {
   "cell_type": "code",
   "execution_count": null,
   "id": "1f9a9b3f-212b-4b50-9736-b37fe4d58e55",
   "metadata": {},
   "outputs": [],
   "source": [
    "Answer:-"
   ]
  },
  {
   "cell_type": "code",
   "execution_count": 10,
   "id": "a70d6bc8-fa03-402c-8f82-649c74d9890e",
   "metadata": {},
   "outputs": [
    {
     "data": {
      "image/png": "[encoded data removed]",
      "text/plain": [
       "<Figure size 800x600 with 1 Axes>"
      ]
     },
     "metadata": {},
     "output_type": "display_data"
    }
   ],
   "source": [
    "import numpy as np\n",
    "import matplotlib.pyplot as plt\n",
    "from sklearn.datasets import load_iris\n",
    "from sklearn.model_selection import train_test_split\n",
    "from sklearn.ensemble import GradientBoostingClassifier\n",
    "from sklearn.metrics import roc_curve, auc\n",
    "\n",
    "\n",
    "iris = load_iris()\n",
    "X, y = iris.data, iris.target\n",
    "\n",
    "y = (y == 0).astype(int)  # Class 0 vs. all\n",
    "\n",
    "X_train, X_test, y_train, y_test = train_test_split(X, y, test_size=0.2, random_state=42)\n",
    "\n",
    "model = GradientBoostingClassifier(n_estimators=100, random_state=42)\n",
    "\n",
    "model.fit(X_train, y_train)\n",
    "\n",
    "y_probs = model.predict_proba(X_test)[:, 1]\n",
    "\n",
    "fpr, tpr, _ = roc_curve(y_test, y_probs)\n",
    "roc_auc = auc(fpr, tpr)\n",
    "\n",
    "plt.figure(figsize=(8, 6))\n",
    "plt.plot(fpr, tpr, color='b', label=f'AUC = {roc_auc:.2f}')\n",
    "plt.plot([0, 1], [0, 1], color='gray', linestyle='--')\n",
    "plt.title('Receiver Operating Characteristic (ROC) Curve')\n",
    "plt.xlabel('False Positive Rate')\n",
    "plt.ylabel('True Positive Rate')\n",
    "plt.legend(loc='lower right')\n",
    "plt.grid(True)\n",
    "plt.show()\n"
   ]
  },
  {
   "cell_type": "code",
   "execution_count": null,
   "id": "8d1af271-1ab0-4bd5-bf7f-4d00e9cb6f18",
   "metadata": {},
   "outputs": [],
   "source": [
    "14)Train an XGBoost Regressor and tune the learning rate using GridSearchCV"
   ]
  },
  {
   "cell_type": "code",
   "execution_count": null,
   "id": "51cbaf80-7a15-47e2-864d-bf9b10e6e69e",
   "metadata": {},
   "outputs": [],
   "source": [
    "Answer:-"
   ]
  },
  {
   "cell_type": "code",
   "execution_count": null,
   "id": "4d739698-6b47-492b-9fbc-24ce2b47c99b",
   "metadata": {},
   "outputs": [],
   "source": [
    "import numpy as np\n",
    "import matplotlib.pyplot as plt\n",
    "from sklearn.datasets import make_regression\n",
    "from sklearn.model_selection import GridSearchCV, KFold\n",
    "from sklearn.metrics import mean_squared_error\n",
    "\n",
    "\n",
    "\n",
    "X, y = make_regression(n_samples=1000, n_features=20, noise=0.1, random_state=42)\n",
    "\n",
    "\n",
    "cv = KFold(n_splits=5, shuffle=True, random_state=42)\n",
    "\n",
    "\n",
    "param_grid = {\n",
    "    'learning_rate': [0.01, 0.05, 0.1, 0.2, 0.3]\n",
    "}\n",
    "\n",
    "\n",
    "model = xgb.XGBRegressor(n_estimators=100, subsample=0.8, colsample_bytree=0.8, random_state=42)\n",
    "\n",
    "\n",
    "grid_search = GridSearchCV(estimator=model, param_grid=param_grid, cv=cv, scoring='neg_mean_squared_error', n_jobs=-1, verbose=1)\n",
    "grid_search.fit(X, y)\n",
    "\n",
    "print(f\"Best learning_rate: {grid_search.best_params_['learning_rate']}\")\n",
    "print(f\"Best CV MSE: {-grid_search.best_score_:.4f}\")\n",
    "\n",
    "results = grid_search.cv_results_\n",
    "\n",
    "plt.figure(figsize=(10, 6))\n",
    "plt.plot(param_grid['learning_rate'], -results['mean_test_score'], marker='o', linestyle='-', color='b')\n",
    "plt.fill_between(param_grid['learning_rate'], -results['mean_test_score'] - results['std_test_score'],\n",
    "                 -results['mean_test_score'] + results['std_test_score'], alpha=0.1, color='b')\n",
    "plt.xscale('log')\n",
    "plt.title('Learning Rate vs. MSE')\n",
    "plt.xlabel('Learning Rate (log scale)')\n",
    "plt.ylabel('CV Average MSE')\n",
    "plt.grid(True)\n",
    "plt.show()"
   ]
  },
  {
   "cell_type": "markdown",
   "id": "abfc39d1-f548-44a5-8d05-69c4953c39dc",
   "metadata": {},
   "source": [
    "15)Train a CatBoost Classifier on an imbalanced dataset and compare performance with class weighting"
   ]
  },
  {
   "cell_type": "code",
   "execution_count": null,
   "id": "afde7621-7eaf-4087-9ee4-8ca64aae1ab5",
   "metadata": {},
   "outputs": [],
   "source": [
    "Answer:-"
   ]
  },
  {
   "cell_type": "code",
   "execution_count": null,
   "id": "8e5cc561-00e1-49d0-aea5-3464dfb23d48",
   "metadata": {},
   "outputs": [],
   "source": [
    "import numpy as np\n",
    "import matplotlib.pyplot as plt\n",
    "from sklearn.datasets import make_classification\n",
    "from sklearn.model_selection import train_test_split\n",
    "from sklearn.metrics import classification_report, roc_auc_score\n",
    "from catboost import CatBoostClassifier\n",
    "\n",
    "\n",
    "X, y = make_classification(n_samples=1000, n_features=20, n_classes=2, \n",
    "                           weights=[0.9, 0.1], flip_y=0, random_state=42)\n",
    "\n",
    "\n",
    "X_train, X_test, y_train, y_test = train_test_split(X, y, test_size=0.2, random_state=42)\n",
    "\n",
    "\n",
    "model_no_weights = CatBoostClassifier(iterations=1000, learning_rate=0.1, depth=6, \n",
    "                                      eval_metric='AUC', random_seed=42, verbose=100)\n",
    "\n",
    "\n",
    "model_no_weights.fit(X_train, y_train, eval_set=(X_test, y_test))\n",
    "\n",
    "\n",
    "y_pred_no_weights = model_no_weights.predict(X_test)\n",
    "y_pred_proba_no_weights = model_no_weights.predict_proba(X_test)[:, 1]\n",
    "print(\"Without Class Weights:\")\n",
    "print(classification_report(y_test, y_pred_no_weights))\n",
    "print(\"ROC AUC Score:\", roc_auc_score(y_test, y_pred_proba_no_weights))\n",
    "\n",
    "model_with_weights = CatBoostClassifier(iterations=1000, learning_rate=0.1, depth=6, \n",
    "                                        eval_metric='AUC', random_seed=42, class_weights=[1, 9], verbose=100)\n",
    "\n",
    "model_with_weights.fit(X_train, y_train, eval_set=(X_test, y_test))\n",
    "\n",
    "\n",
    "y_pred_with_weights = model_with_weights.predict(X_test)\n",
    "y_pred_proba_with_weights = model_with_weights.predict_proba(X_test)[:, 1]\n",
    "print(\"\\nWith Class Weights:\")\n",
    "print(classification_report(y_test, y_pred_with_weights))\n",
    "print(\"ROC AUC Score:\", roc_auc_score(y_test, y_pred_proba_with_weights))\n",
    "\n",
    "from sklearn.metrics import roc_curve\n",
    "\n",
    "fpr_no_weights, tpr_no_weights, _ = roc_curve(y_test, y_pred_proba_no_weights)\n",
    "fpr_with_weights, tpr_with_weights, _ = roc_curve(y_test, y_pred_proba_with_weights)\n",
    "\n",
    "plt.figure(figsize=(8, 6))\n",
    "plt.plot(fpr_no_weights, tpr_no_weights, label=f'No Weights (AUC = {roc_auc_score(y_test, y_pred_pro_))}\n"
   ]
  },
  {
   "cell_type": "markdown",
   "id": "8d10b97b-ab45-43f4-b3ee-5295dd636ae3",
   "metadata": {},
   "source": [
    "16)Train an AdaBoost Classifier and analyze the effect of different learning rates"
   ]
  },
  {
   "cell_type": "code",
   "execution_count": null,
   "id": "e99fa731-8f85-4eaa-8f24-6f4b4c2a10ed",
   "metadata": {},
   "outputs": [],
   "source": [
    "Answer:-"
   ]
  },
  {
   "cell_type": "code",
   "execution_count": 12,
   "id": "79f9f7e0-55b9-4a25-9589-793dd5ee634a",
   "metadata": {},
   "outputs": [
    {
     "name": "stderr",
     "output_type": "stream",
     "text": [
      "C:\\Users\\User\\anaconda3\\Lib\\site-packages\\sklearn\\ensemble\\_weight_boosting.py:527: FutureWarning: The SAMME.R algorithm (the default) is deprecated and will be removed in 1.6. Use the SAMME algorithm to circumvent this warning.\n",
      "  warnings.warn(\n",
      "C:\\Users\\User\\anaconda3\\Lib\\site-packages\\sklearn\\ensemble\\_weight_boosting.py:527: FutureWarning: The SAMME.R algorithm (the default) is deprecated and will be removed in 1.6. Use the SAMME algorithm to circumvent this warning.\n",
      "  warnings.warn(\n",
      "C:\\Users\\User\\anaconda3\\Lib\\site-packages\\sklearn\\ensemble\\_weight_boosting.py:527: FutureWarning: The SAMME.R algorithm (the default) is deprecated and will be removed in 1.6. Use the SAMME algorithm to circumvent this warning.\n",
      "  warnings.warn(\n",
      "C:\\Users\\User\\anaconda3\\Lib\\site-packages\\sklearn\\ensemble\\_weight_boosting.py:527: FutureWarning: The SAMME.R algorithm (the default) is deprecated and will be removed in 1.6. Use the SAMME algorithm to circumvent this warning.\n",
      "  warnings.warn(\n"
     ]
    },
    {
     "data": {
      "image/png": "[encoded data removed]",
      "text/plain": [
       "<Figure size 1000x600 with 1 Axes>"
      ]
     },
     "metadata": {},
     "output_type": "display_data"
    }
   ],
   "source": [
    "import numpy as np\n",
    "import matplotlib.pyplot as plt\n",
    "from sklearn.datasets import load_iris\n",
    "from sklearn.model_selection import train_test_split\n",
    "from sklearn.ensemble import AdaBoostClassifier\n",
    "from sklearn.metrics import accuracy_score\n",
    "\n",
    "\n",
    "iris = load_iris()\n",
    "X, y = iris.data, iris.target\n",
    "\n",
    "\n",
    "y = (y == 0).astype(int)  \n",
    "\n",
    "\n",
    "X_train, X_test, y_train, y_test = train_test_split(X, y, test_size=0.2, random_state=42)\n",
    "\n",
    "\n",
    "learning_rates = [0.01, 0.1, 0.5, 1.0]\n",
    "train_accuracies = []\n",
    "test_accuracies = []\n",
    "\n",
    "for lr in learning_rates:\n",
    "    model = AdaBoostClassifier(learning_rate=lr, n_estimators=100, random_state=42)\n",
    "    model.fit(X_train, y_train)\n",
    "    \n",
    "    y_train_pred = model.predict(X_train)\n",
    "    y_test_pred = model.predict(X_test)\n",
    "    \n",
    "\n",
    "    train_accuracies.append(accuracy_score(y_train, y_train_pred))\n",
    "    test_accuracies.append(accuracy_score(y_test, y_test_pred))\n",
    "\n",
    "plt.figure(figsize=(10, 6))\n",
    "plt.plot(learning_rates, train_accuracies, label='Train Accuracy', marker='o')\n",
    "plt.plot(learning_rates, test_accuracies, label='Test Accuracy', marker='o')\n",
    "plt.title('AdaBoost Classifier Accuracy vs. Learning Rate')\n",
    "plt.xlabel('Learning Rate')\n",
    "plt.ylabel('Accuracy')\n",
    "plt.legend()\n",
    "plt.grid(True)\n",
    "plt.show()\n"
   ]
  },
  {
   "cell_type": "markdown",
   "id": "d706df61-31f9-4ce5-812c-afd280180b0b",
   "metadata": {},
   "source": [
    "17)Train an XGBoost Classifier for multi-class classification and evaluate using log-loss."
   ]
  },
  {
   "cell_type": "code",
   "execution_count": null,
   "id": "9c59e45a-faea-4a12-b672-0ca8cfcb1d64",
   "metadata": {},
   "outputs": [],
   "source": [
    "Answer:-"
   ]
  },
  {
   "cell_type": "code",
   "execution_count": null,
   "id": "4577c65e-cd37-4dcc-a46d-c7df94bbb8ad",
   "metadata": {},
   "outputs": [],
   "source": [
    "import numpy as np\n",
    "import matplotlib.pyplot as plt\n",
    "from sklearn.datasets import make_classification\n",
    "from sklearn.model_selection import train_test_split\n",
    "from sklearn.metrics import log_loss\n",
    "from xgboost import XGBClassifier\n",
    "\n",
    "\n",
    "X, y = make_classification(n_samples=1000, n_classes=3, n_features=10, n_informative=5, random_state=42)\n",
    "\n",
    "\n",
    "X_train, X_test, y_train, y_test = train_test_split(X, y, test_size=0.2, random_state=42)\n",
    "\n",
    "\n",
    "model = XGBClassifier(objective=\"multi:softprob\", num_class=3, n_estimators=100, learning_rate=0.1, eval_metric=\"mlogloss\", random_state=42)\n",
    "\n",
    "\n",
    "model.fit(X_train, y_train, eval_set=[(X_test, y_test)], early_stopping_rounds=10, verbose=True)\n",
    "\n",
    "\n",
    "y_pred_proba = model.predict_proba(X_test)\n",
    "\n",
    "\n",
    "logloss = log_loss(y_test, y_pred_proba)\n",
    "print(f\"Log-Loss: {logloss:.4f}\")\n",
    "\n",
    "\n",
    "results = model.evals_result()\n",
    "epochs = len(results['validation_0']['mlogloss'])\n",
    "x_axis = range(_)"
   ]
  }
 ],
 "metadata": {
  "kernelspec": {
   "display_name": "Python [conda env:base] *",
   "language": "python",
   "name": "conda-base-py"
  },
  "language_info": {
   "codemirror_mode": {
    "name": "ipython",
    "version": 3
   },
   "file_extension": ".py",
   "mimetype": "text/x-python",
   "name": "python",
   "nbconvert_exporter": "python",
   "pygments_lexer": "ipython3",
   "version": "3.12.7"
  }
 },
 "nbformat": 4,
 "nbformat_minor": 5
}
